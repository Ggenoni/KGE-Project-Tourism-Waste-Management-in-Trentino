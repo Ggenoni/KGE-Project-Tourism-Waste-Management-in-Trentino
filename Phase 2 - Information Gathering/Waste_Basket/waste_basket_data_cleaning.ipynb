{
 "cells": [
  {
   "cell_type": "markdown",
   "metadata": {},
   "source": [
    "### Dataset \"Waste baskets\" (plus \"Waste baskets disposal type\" and \"Waste disposal type\")\n",
    "\n",
    "The geojson represents all the waste baskets and recycle bins in the Trento Province annotated by Open Street Map community users.  \n",
    "The data was collected via Overpass Turbo by running the following script:\n",
    "\n",
    "```\n",
    "[out:json];\n",
    "area[\"name\"=\"Provincia di Trento\"]->.a; // Define the Province of Trento\n",
    "(\n",
    "  node[\"amenity\"=\"waste_basket\"](area.a); // Waste baskets\n",
    "  node[\"amenity\"=\"recycling\"](area.a); // Recycling points\n",
    "  node[\"amenity\"=\"waste_basket\"][\"waste:organic\"=\"yes\"](area.a); // Organic waste bins\n",
    "  node[\"amenity\"=\"recycling\"][\"recycling:glass\"=\"yes\"](area.a); // Glass recycling points\n",
    "  node[\"amenity\"=\"recycling\"][\"recycling:plastic\"=\"yes\"](area.a); // Plastic recycling points\n",
    "  node[\"amenity\"=\"recycling\"][\"recycling:paper\"=\"yes\"](area.a); // Paper recycling points\n",
    "  node[\"amenity\"=\"waste_disposal\"](area.a); // Waste collection points\n",
    "  node[\"amenity\"=\"waste_collection_point\"](area.a); // Waste collection bins\n",
    ");\n",
    "out body;\n",
    ">;\n",
    "out skel qt;\n",
    "```\n",
    "\n",
    "\n",
    "You may also look at the [map](https://overpass-turbo.eu/map.html?Q=%5Bout%3Ajson%5D%3B%0Aarea%5B%22name%22%3D%22Provincia+di+Trento%22%5D-%3E.a%3B+%2F%2F+Define+the+Province+of+Trento%0A%28%0A++node%5B%22amenity%22%3D%22waste_basket%22%5D%28area.a%29%3B+%2F%2F+Waste+baskets%0A++node%5B%22amenity%22%3D%22recycling%22%5D%28area.a%29%3B+%2F%2F+Recycling+points%0A++node%5B%22amenity%22%3D%22waste_basket%22%5D%5B%22waste%3Aorganic%22%3D%22yes%22%5D%28area.a%29%3B+%2F%2F+Organic+waste+bins%0A++node%5B%22amenity%22%3D%22recycling%22%5D%5B%22recycling%3Aglass%22%3D%22yes%22%5D%28area.a%29%3B+%2F%2F+Glass+recycling+points%0A++node%5B%22amenity%22%3D%22recycling%22%5D%5B%22recycling%3Aplastic%22%3D%22yes%22%5D%28area.a%29%3B+%2F%2F+Plastic+recycling+points%0A++node%5B%22amenity%22%3D%22recycling%22%5D%5B%22recycling%3Apaper%22%3D%22yes%22%5D%28area.a%29%3B+%2F%2F+Paper+recycling+points%0A++node%5B%22amenity%22%3D%22waste_disposal%22%5D%28area.a%29%3B+%2F%2F+Waste+collection+points%0A++node%5B%22amenity%22%3D%22waste_collection_point%22%5D%28area.a%29%3B+%2F%2F+Waste+collection+bins%0A%29%3B%0Aout+body%3B%0A%3E%3B%0Aout+skel+qt%3B%0A%0A) to find the exact location of the points."
   ]
  },
  {
   "cell_type": "code",
   "execution_count": 1,
   "metadata": {},
   "outputs": [],
   "source": [
    "import geopandas as gpd\n",
    "import pandas as pd\n",
    "import json"
   ]
  },
  {
   "cell_type": "code",
   "execution_count": 77,
   "metadata": {},
   "outputs": [],
   "source": [
    "# Load the GeoJSON file\n",
    "geojson_file = 'waste_baskets_original.geojson'\n",
    "gdf = gpd.read_file(geojson_file)"
   ]
  },
  {
   "cell_type": "code",
   "execution_count": 49,
   "metadata": {},
   "outputs": [
    {
     "data": {
      "text/plain": [
       "(3883, 84)"
      ]
     },
     "execution_count": 49,
     "metadata": {},
     "output_type": "execute_result"
    }
   ],
   "source": [
    "gdf.shape"
   ]
  },
  {
   "cell_type": "code",
   "execution_count": 37,
   "metadata": {},
   "outputs": [
    {
     "data": {
      "text/plain": [
       "Index(['id', '@id', 'access', 'addr:city', 'addr:country', 'addr:housename',\n",
       "       'addr:housenumber', 'addr:postcode', 'addr:province', 'addr:street',\n",
       "       'amenity', 'ash', 'backrest', 'bench', 'building', 'bus', 'check_date',\n",
       "       'check_date:recycling', 'colour', 'covered', 'created_by',\n",
       "       'departures_board', 'description', 'disused:highway',\n",
       "       'disused:public_transport', 'fixme', 'highway', 'hiking', 'image',\n",
       "       'indoor', 'layer', 'level', 'location', 'material', 'name', 'note',\n",
       "       'opening_hours', 'operator', 'private', 'public_transport',\n",
       "       'recycling:PET', 'recycling:aluminium', 'recycling:batteries',\n",
       "       'recycling:beverage_cartons', 'recycling:books', 'recycling:bottles',\n",
       "       'recycling:cans', 'recycling:cardboard', 'recycling:cartons',\n",
       "       'recycling:clothes', 'recycling:drugs',\n",
       "       'recycling:electrical_appliances', 'recycling:electrical_items',\n",
       "       'recycling:food_waste', 'recycling:garden_pots',\n",
       "       'recycling:garden_waste', 'recycling:glass', 'recycling:glass_bottles',\n",
       "       'recycling:green_waste', 'recycling:lamps', 'recycling:magazines',\n",
       "       'recycling:newspaper', 'recycling:organic', 'recycling:organic_waste',\n",
       "       'recycling:paper', 'recycling:paper_packaging', 'recycling:plastic',\n",
       "       'recycling:plastic_bottles', 'recycling:plastic_packaging',\n",
       "       'recycling:scrap_metal', 'recycling:shoes',\n",
       "       'recycling:small_appliances', 'recycling:tetrapak', 'recycling:waste',\n",
       "       'recycling:wood', 'recycling_type', 'ref', 'shelter', 'shop', 'source',\n",
       "       'tourism', 'waste', 'wheelchair', 'geometry'],\n",
       "      dtype='object')"
      ]
     },
     "execution_count": 37,
     "metadata": {},
     "output_type": "execute_result"
    }
   ],
   "source": [
    "gdf.columns"
   ]
  },
  {
   "cell_type": "code",
   "execution_count": 69,
   "metadata": {},
   "outputs": [
    {
     "name": "stdout",
     "output_type": "stream",
     "text": [
      "Index([], dtype='object')\n"
     ]
    }
   ],
   "source": [
    "# Check which columns contain only NaN or None values\n",
    "nan_columns = gdf.isna().all()\n",
    "\n",
    "# Print the columns that have only NaN/None values\n",
    "print(nan_columns[nan_columns == True].index)"
   ]
  },
  {
   "cell_type": "code",
   "execution_count": 78,
   "metadata": {},
   "outputs": [],
   "source": [
    "# Get the list of columns\n",
    "cols_to_drop = gdf.columns.tolist()\n",
    "\n",
    "# Find the start and end indices for each range you want to drop\n",
    "start1 = cols_to_drop.index('ash')\n",
    "end1 = cols_to_drop.index('public_transport') + 1  # Include 'public_transport'\n",
    "\n",
    "start2 = cols_to_drop.index('ref')\n",
    "end2 = cols_to_drop.index('wheelchair') + 1  # Include 'wheelchair'\n",
    "\n",
    "start3 = cols_to_drop.index('@id')\n",
    "end3 = cols_to_drop.index('addr:street') + 1  # Include 'addr:street'\n",
    "\n",
    "# Drop the columns in all ranges plus the '@id' column\n",
    "gdf = gdf.drop(columns=cols_to_drop[start1:end1] + cols_to_drop[start2:end2] + cols_to_drop[start3:end3])\n"
   ]
  },
  {
   "cell_type": "code",
   "execution_count": 71,
   "metadata": {},
   "outputs": [
    {
     "data": {
      "text/plain": [
       "(3883, 39)"
      ]
     },
     "execution_count": 71,
     "metadata": {},
     "output_type": "execute_result"
    }
   ],
   "source": [
    "gdf.shape"
   ]
  },
  {
   "cell_type": "code",
   "execution_count": 72,
   "metadata": {},
   "outputs": [
    {
     "data": {
      "text/plain": [
       "Index(['id', 'amenity', 'recycling:PET', 'recycling:aluminium',\n",
       "       'recycling:batteries', 'recycling:beverage_cartons', 'recycling:books',\n",
       "       'recycling:bottles', 'recycling:cans', 'recycling:cardboard',\n",
       "       'recycling:cartons', 'recycling:clothes', 'recycling:drugs',\n",
       "       'recycling:electrical_appliances', 'recycling:electrical_items',\n",
       "       'recycling:food_waste', 'recycling:garden_pots',\n",
       "       'recycling:garden_waste', 'recycling:glass', 'recycling:glass_bottles',\n",
       "       'recycling:green_waste', 'recycling:lamps', 'recycling:magazines',\n",
       "       'recycling:newspaper', 'recycling:organic', 'recycling:organic_waste',\n",
       "       'recycling:paper', 'recycling:paper_packaging', 'recycling:plastic',\n",
       "       'recycling:plastic_bottles', 'recycling:plastic_packaging',\n",
       "       'recycling:scrap_metal', 'recycling:shoes',\n",
       "       'recycling:small_appliances', 'recycling:tetrapak', 'recycling:waste',\n",
       "       'recycling:wood', 'recycling_type', 'geometry'],\n",
       "      dtype='object')"
      ]
     },
     "execution_count": 72,
     "metadata": {},
     "output_type": "execute_result"
    }
   ],
   "source": [
    "gdf.columns"
   ]
  },
  {
   "cell_type": "code",
   "execution_count": 79,
   "metadata": {},
   "outputs": [],
   "source": [
    "#Add the municipality for each basket\n",
    "municipalities = gpd.read_file('Municipality.txt')\n",
    "municipalities = municipalities.to_crs(epsg=4326)  # EPSG 4326 is a common CRS (WGS84)\n",
    "gdf = gdf.to_crs(epsg=4326)"
   ]
  },
  {
   "cell_type": "code",
   "execution_count": 80,
   "metadata": {},
   "outputs": [
    {
     "name": "stderr",
     "output_type": "stream",
     "text": [
      "C:\\Users\\prova\\AppData\\Roaming\\Python\\Python312\\site-packages\\IPython\\core\\interactiveshell.py:3466: FutureWarning: The `op` parameter is deprecated and will be removed in a future release. Please use the `predicate` parameter instead.\n",
      "  if await self.run_code(code, result, async_=asy):\n"
     ]
    }
   ],
   "source": [
    "# Perform spatial join to find which municipality each waste basket is in\n",
    "gdf = gpd.sjoin(gdf, municipalities[['name', 'geometry']], how='left', op='within')\n"
   ]
  },
  {
   "cell_type": "code",
   "execution_count": 82,
   "metadata": {},
   "outputs": [
    {
     "name": "stdout",
     "output_type": "stream",
     "text": [
      "               id         amenity recycling:PET recycling:aluminium  \\\n",
      "0  node/261081646       recycling          None                None   \n",
      "1  node/261081752       recycling          None                None   \n",
      "2  node/261081757       recycling          None                None   \n",
      "3  node/261086633  waste_disposal          None                None   \n",
      "4  node/261086634       recycling          None                None   \n",
      "\n",
      "  recycling:batteries recycling:beverage_cartons recycling:books  \\\n",
      "0                None                       None            None   \n",
      "1                None                       None            None   \n",
      "2                None                       None            None   \n",
      "3                None                       None            None   \n",
      "4                None                       None            None   \n",
      "\n",
      "  recycling:bottles recycling:cans recycling:cardboard  ...  \\\n",
      "0              None           None                None  ...   \n",
      "1              None           None                None  ...   \n",
      "2              None           None                None  ...   \n",
      "3              None           None                None  ...   \n",
      "4              None           None                None  ...   \n",
      "\n",
      "  recycling:plastic_packaging recycling:scrap_metal recycling:shoes  \\\n",
      "0                        None                  None            None   \n",
      "1                        None                  None            None   \n",
      "2                        None                  None            None   \n",
      "3                        None                  None            None   \n",
      "4                        None                  None            None   \n",
      "\n",
      "  recycling:small_appliances recycling:tetrapak recycling:waste  \\\n",
      "0                       None               None            None   \n",
      "1                       None               None            None   \n",
      "2                       None               None            None   \n",
      "3                       None               None            None   \n",
      "4                       None               None            None   \n",
      "\n",
      "  recycling:wood recycling_type                   geometry  \\\n",
      "0           None      container  POINT (11.43623 46.28142)   \n",
      "1           None      container  POINT (11.43985 46.28266)   \n",
      "2           None         centre  POINT (11.43993 46.28152)   \n",
      "3           None           None  POINT (11.41878 46.27198)   \n",
      "4           None      container  POINT (11.41737 46.27295)   \n",
      "\n",
      "                municipality  \n",
      "0  Castello-Molina di Fiemme  \n",
      "1  Castello-Molina di Fiemme  \n",
      "2  Castello-Molina di Fiemme  \n",
      "3  Castello-Molina di Fiemme  \n",
      "4  Castello-Molina di Fiemme  \n",
      "\n",
      "[5 rows x 40 columns]\n"
     ]
    }
   ],
   "source": [
    "# Drop the 'index_right' column\n",
    "gdf = gdf.drop(columns=['index_right'])\n",
    "# Rename 'name_left' column to 'municipality'\n",
    "gdf = gdf.rename(columns={'name': 'municipality'})\n",
    "\n",
    "# Check the updated result\n",
    "print(gdf.head())"
   ]
  },
  {
   "cell_type": "code",
   "execution_count": null,
   "metadata": {},
   "outputs": [
    {
     "name": "stdout",
     "output_type": "stream",
     "text": [
      "Removed 211 records with empty or missing 'name'.\n"
     ]
    }
   ],
   "source": [
    "# Load the JSON file\n",
    "with open('Municipality.geojson', 'r') as file:\n",
    "    data = json.load(file)\n",
    "\n",
    "# Filter out records with an empty or missing 'name'\n",
    "filtered_data = [\n",
    "    record for record in data\n",
    "    if record.get('properties', {}).get('name')  # Keeps records with a non-empty 'name'\n",
    "]\n",
    "\n",
    "# Save the updated JSON back to a file\n",
    "with open('Cleaned_Municipality.geojson', 'w') as file:\n",
    "    json.dump(filtered_data, file, indent=4)\n",
    "\n",
    "print(f\"Removed {len(data) - len(filtered_data)} records with empty or missing 'name'.\")\n"
   ]
  },
  {
   "cell_type": "code",
   "execution_count": 10,
   "metadata": {},
   "outputs": [
    {
     "data": {
      "text/plain": [
       "{'Samone': '22165',\n",
       " 'Avio': '22007',\n",
       " 'Ala': '22001',\n",
       " 'Vallarsa': '22210',\n",
       " 'Brentonico': '22025',\n",
       " 'Trambileno': '22203',\n",
       " 'Bondone': '22021',\n",
       " 'Nago-Torbole': '22124',\n",
       " 'Storo': '22183',\n",
       " 'Mori': '22123',\n",
       " 'Rovereto': '22161',\n",
       " 'Riva del Garda': '22153',\n",
       " 'Terragnolo': '22193',\n",
       " 'Folgaria': '22087',\n",
       " 'Arco': '22006',\n",
       " 'Borgo Chiese': '22238',\n",
       " 'Isera': '22098',\n",
       " 'Ronzo-Chienis': '22135',\n",
       " 'Nogaredo': '22127',\n",
       " 'Ledro': '22229',\n",
       " 'Pieve di Bono-Prezzo': '22234',\n",
       " 'Tenno': '22191',\n",
       " 'Villa Lagarina': '22222',\n",
       " 'Castel Condino': '22045',\n",
       " 'Pomarolo': '22144',\n",
       " 'Volano': '22224',\n",
       " 'Lavarone': '22102',\n",
       " 'Valdaone': '22232',\n",
       " 'Nomi': '22128',\n",
       " 'Lusérn - Luserna': '22109',\n",
       " 'Drena': '22078',\n",
       " 'Besenello': '22013',\n",
       " 'Levico Terme': '22104',\n",
       " 'Caldonazzo': '22034',\n",
       " 'Tione di Trento': '22199',\n",
       " 'Fiavé': '22083',\n",
       " 'Cimone': '22058',\n",
       " 'Aldeno': '22003',\n",
       " 'Grigno': '22095',\n",
       " 'Bleggio Superiore': '22017',\n",
       " 'Sella Giudicarie': '22246',\n",
       " 'Dro': '22079',\n",
       " 'Cavedine': '22053',\n",
       " 'Altopiano della Vigolana': '22236',\n",
       " 'Trento': '22205',\n",
       " 'Calceranica al Lago': '22032',\n",
       " 'Garniga Terme': '22091',\n",
       " 'Borgo Lares': '22239',\n",
       " 'Borgo Valsugana': '22022',\n",
       " 'Ospedaletto': '22130',\n",
       " 'Castelnuovo': '22049',\n",
       " 'Pergine Valsugana': '22139',\n",
       " 'Tenna': '22190',\n",
       " 'Novaledo': '22129',\n",
       " 'Castello Tesino': '22048',\n",
       " 'Cinte Tesino': '22059',\n",
       " 'Madruzzo': '22243',\n",
       " 'Vignola Falesina': '22216',\n",
       " 'Porte di Rendena': '22244',\n",
       " 'Tre Ville': '22247',\n",
       " 'Stenico': '22182',\n",
       " 'Telve': '22188',\n",
       " 'Roncegno Terme': '22156',\n",
       " 'Frassilongo - Garait': '22090',\n",
       " 'Scurelle': '22171',\n",
       " 'Castel Ivano': '22240',\n",
       " 'Carzano': '22043',\n",
       " 'Telve di Sopra': '22189',\n",
       " 'Pieve Tesino': '22142',\n",
       " 'Vallelaghi': '22248',\n",
       " 'San Lorenzo Dorsino': '22231',\n",
       " 'Ronchi Valsugana': '22157',\n",
       " 'Torcegno': '22202',\n",
       " 'Pelugo': '22138',\n",
       " 'Spiazzo': '22179',\n",
       " \"Sant'Orsola Terme\": '22168',\n",
       " 'Fierozzo - Vlarotz': '22085',\n",
       " 'Baselga di Piné': '22009',\n",
       " 'Canal San Bovo': '22038',\n",
       " 'Bocenago': '22018',\n",
       " 'Imer': '22097',\n",
       " 'Civezzano': '22061',\n",
       " 'Fornace': '22089',\n",
       " 'Mezzano': '22115',\n",
       " 'Strembo': '22184',\n",
       " 'Palù del Fersina - Palai en Bersntol': '22133',\n",
       " 'Bieno': '22015',\n",
       " 'Albiano': '22002',\n",
       " 'Massimeno': '22112',\n",
       " 'Caderzone Terme': '22029',\n",
       " 'Molveno': '22120',\n",
       " 'Lavis': '22103',\n",
       " 'Bedollo': '22011',\n",
       " 'Andalo': '22005',\n",
       " 'Lona-Lases': '22108',\n",
       " 'Giustino': '22093',\n",
       " 'Fai della Paganella': '22081',\n",
       " 'Giovo': '22092',\n",
       " 'Cembra Lisignago': '22241',\n",
       " 'Pinzolo': '22143',\n",
       " 'Valfloriana': '22209',\n",
       " 'Carisolo': '22042',\n",
       " 'Segonzano': '22172',\n",
       " 'Sagron Mis': '22164',\n",
       " 'Cavedago': '22052',\n",
       " 'Mezzolombardo': '22117',\n",
       " \"San Michele all'Adige\": '22167',\n",
       " 'Castello-Molina di Fiemme': '22047',\n",
       " 'Spormaggiore': '22180',\n",
       " \"Ville d'Anaunia\": '22249',\n",
       " 'Altavalle': '22235',\n",
       " 'Sover': '22177',\n",
       " 'Cavalese': '22050',\n",
       " 'Mezzocorona': '22116',\n",
       " 'Campodenno': '22037',\n",
       " 'Tesero': '22196',\n",
       " 'Panchià': '22134',\n",
       " 'Vermiglio': '22213',\n",
       " 'Ton': '22200',\n",
       " 'Ziano di Fiemme': '22226',\n",
       " 'Sporminore': '22181',\n",
       " 'Ossana': '22131',\n",
       " 'Capriana': '22040',\n",
       " 'Dimaro Folgarida': '22233',\n",
       " 'Roveré della Luna': '22160',\n",
       " 'Predazzo': '22147',\n",
       " 'Pellizzano': '22137',\n",
       " 'Denno': '22074',\n",
       " 'Mezzana': '22114',\n",
       " 'Commezzadura': '22064',\n",
       " 'Predaia': '22230',\n",
       " 'Contà': '22242',\n",
       " 'Peio': '22136',\n",
       " 'Cles': '22062',\n",
       " 'Croviana': '22068',\n",
       " 'Sfruz': '22173',\n",
       " 'Malé': '22110',\n",
       " 'Terzolas': '22195',\n",
       " 'Moena': '22118',\n",
       " 'Rabbi': '22150',\n",
       " 'Caldes': '22033',\n",
       " 'Sanzeno': '22169',\n",
       " 'Cavizzana': '22054',\n",
       " 'Amblar-Don': '22237',\n",
       " 'Romeno': '22155',\n",
       " 'Dambel': '22071',\n",
       " 'Cis': '22060',\n",
       " 'Soraga di Fassa': '22176',\n",
       " 'Bresimo': '22026',\n",
       " 'San Giovanni di Fassa - Sèn Jan': '22250',\n",
       " 'Cavareno': '22051',\n",
       " 'Sarnonico': '22170',\n",
       " 'Ruffré-Mendola': '22162',\n",
       " 'Ronzone': '22159',\n",
       " 'Rumo': '22163',\n",
       " 'Canazei': '22039',\n",
       " 'Mazzin': '22113',\n",
       " 'Campitello di Fassa': '22036',\n",
       " 'Livo': '22106',\n",
       " 'Calliano': '22035',\n",
       " 'Comano Terme': '22228',\n",
       " 'Primiero San Martino di Castrozza': '22245',\n",
       " \"Terre d'Adige\": '22251',\n",
       " 'Novella': '22253',\n",
       " \"Borgo d'Anaunia\": '22252',\n",
       " 'Ville di Fiemme': '22254'}"
      ]
     },
     "execution_count": 10,
     "metadata": {},
     "output_type": "execute_result"
    }
   ],
   "source": [
    "# Load the cleaned municipalities GeoJSON file\n",
    "with open('Cleaned_Municipality.geojson', 'r') as geojson_file:\n",
    "    geojson_data = json.load(geojson_file)\n",
    "\n",
    "# Create a mapping of municipality names to ref:ISTAT\n",
    "name_to_ref_istat_mapping = {\n",
    "    record['properties']['name']: record['properties']['ref:ISTAT']\n",
    "    for record in geojson_data\n",
    "    if record.get('properties', {}).get('ref:ISTAT')  # Only include valid ref:ISTAT values\n",
    "}\n",
    "\n",
    "\n",
    "name_to_ref_istat_mapping"
   ]
  },
  {
   "cell_type": "code",
   "execution_count": 11,
   "metadata": {},
   "outputs": [
    {
     "name": "stdout",
     "output_type": "stream",
     "text": [
      "The 'municipality' column has been replaced with 'ref:ISTAT' values.\n"
     ]
    }
   ],
   "source": [
    "# Replace municipality names with ref:ISTAT values\n",
    "gdf['municipality'] = gdf['municipality'].map(name_to_ref_istat_mapping)\n",
    "\n",
    "\n",
    "print(\"The 'municipality' column has been replaced with 'ref:ISTAT' values.\")"
   ]
  },
  {
   "cell_type": "code",
   "execution_count": 84,
   "metadata": {},
   "outputs": [
    {
     "data": {
      "text/plain": [
       "(3883, 40)"
      ]
     },
     "execution_count": 84,
     "metadata": {},
     "output_type": "execute_result"
    }
   ],
   "source": [
    "gdf.shape"
   ]
  },
  {
   "cell_type": "code",
   "execution_count": 83,
   "metadata": {},
   "outputs": [
    {
     "data": {
      "text/plain": [
       "Index(['id', 'amenity', 'recycling:PET', 'recycling:aluminium',\n",
       "       'recycling:batteries', 'recycling:beverage_cartons', 'recycling:books',\n",
       "       'recycling:bottles', 'recycling:cans', 'recycling:cardboard',\n",
       "       'recycling:cartons', 'recycling:clothes', 'recycling:drugs',\n",
       "       'recycling:electrical_appliances', 'recycling:electrical_items',\n",
       "       'recycling:food_waste', 'recycling:garden_pots',\n",
       "       'recycling:garden_waste', 'recycling:glass', 'recycling:glass_bottles',\n",
       "       'recycling:green_waste', 'recycling:lamps', 'recycling:magazines',\n",
       "       'recycling:newspaper', 'recycling:organic', 'recycling:organic_waste',\n",
       "       'recycling:paper', 'recycling:paper_packaging', 'recycling:plastic',\n",
       "       'recycling:plastic_bottles', 'recycling:plastic_packaging',\n",
       "       'recycling:scrap_metal', 'recycling:shoes',\n",
       "       'recycling:small_appliances', 'recycling:tetrapak', 'recycling:waste',\n",
       "       'recycling:wood', 'recycling_type', 'geometry', 'municipality'],\n",
       "      dtype='object')"
      ]
     },
     "execution_count": 83,
     "metadata": {},
     "output_type": "execute_result"
    }
   ],
   "source": [
    "gdf.columns"
   ]
  },
  {
   "cell_type": "code",
   "execution_count": 85,
   "metadata": {},
   "outputs": [
    {
     "name": "stderr",
     "output_type": "stream",
     "text": [
      "c:\\Users\\prova\\AppData\\Local\\Programs\\Python\\Python312\\Lib\\site-packages\\geopandas\\geoseries.py:645: FutureWarning: the convert_dtype parameter is deprecated and will be removed in a future version.  Do ``ser.astype(object).apply()`` instead if you want ``convert_dtype=False``.\n",
      "  result = super().apply(func, convert_dtype=convert_dtype, args=args, **kwargs)\n",
      "c:\\Users\\prova\\AppData\\Local\\Programs\\Python\\Python312\\Lib\\site-packages\\geopandas\\geodataframe.py:1537: UserWarning: Geometry column does not contain geometry.\n",
      "  warnings.warn(\"Geometry column does not contain geometry.\")\n"
     ]
    }
   ],
   "source": [
    "gdf['geometry'] = gdf['geometry'].apply(lambda x: x.wkt)"
   ]
  },
  {
   "cell_type": "code",
   "execution_count": 86,
   "metadata": {},
   "outputs": [
    {
     "data": {
      "text/plain": [
       "0       POINT (11.4362294 46.2814163)\n",
       "1       POINT (11.4398494 46.2826576)\n",
       "2       POINT (11.4399299 46.2815241)\n",
       "3       POINT (11.4187814 46.2719774)\n",
       "4       POINT (11.4173692 46.2729517)\n",
       "                    ...              \n",
       "3878     POINT (11.000973 45.9278191)\n",
       "3879    POINT (11.4293755 46.0631927)\n",
       "3880    POINT (11.1220095 46.0913459)\n",
       "3881    POINT (11.1426697 46.0649704)\n",
       "3882     POINT (11.1414906 46.065003)\n",
       "Name: geometry, Length: 3883, dtype: object"
      ]
     },
     "execution_count": 86,
     "metadata": {},
     "output_type": "execute_result"
    }
   ],
   "source": [
    "gdf.geometry"
   ]
  },
  {
   "cell_type": "code",
   "execution_count": 87,
   "metadata": {},
   "outputs": [],
   "source": [
    "# Isolate relevant columns\n",
    "recycling_columns = [col for col in gdf.columns if col.startswith('recycling:')]\n",
    "# Drop 'recycling_type' from the list of columns\n",
    "recycling_columns = [col for col in recycling_columns if col != 'recycling_type']"
   ]
  },
  {
   "cell_type": "code",
   "execution_count": 88,
   "metadata": {},
   "outputs": [
    {
     "name": "stdout",
     "output_type": "stream",
     "text": [
      "[None 'yes']\n",
      "[None 'yes']\n",
      "[None 'yes' 'no']\n",
      "[None 'yes']\n",
      "[None 'yes']\n",
      "[None 'yes']\n",
      "[None 'yes' 'no']\n",
      "[None 'yes']\n",
      "[None 'yes']\n",
      "[None 'yes' 'no']\n",
      "[None 'yes']\n",
      "[None 'no']\n",
      "[None 'yes']\n",
      "[None 'yes']\n",
      "[None 'yes']\n",
      "[None 'yes']\n",
      "[None 'no' 'yes']\n",
      "[None 'yes' 'no']\n",
      "[None 'yes']\n",
      "[None 'yes']\n",
      "[None 'yes' 'no']\n",
      "[None 'yes']\n",
      "[None 'yes']\n",
      "[None 'yes']\n",
      "[None 'yes' 'no']\n",
      "[None 'yes']\n",
      "[None 'yes' 'no']\n",
      "[None 'yes']\n",
      "[None 'yes' 'no']\n",
      "[None 'yes' 'no']\n",
      "[None 'yes']\n",
      "[None 'no']\n",
      "[None 'yes']\n",
      "[None 'yes' 'no']\n",
      "[None 'yes']\n"
     ]
    }
   ],
   "source": [
    "for col in recycling_columns:\n",
    "    print(gdf[col].unique())"
   ]
  },
  {
   "cell_type": "code",
   "execution_count": 89,
   "metadata": {},
   "outputs": [
    {
     "name": "stderr",
     "output_type": "stream",
     "text": [
      "C:\\Users\\prova\\AppData\\Local\\Temp\\ipykernel_11936\\1247586705.py:2: FutureWarning: DataFrame.applymap has been deprecated. Use DataFrame.map instead.\n",
      "  gdf[recycling_columns] = gdf[recycling_columns].applymap(\n"
     ]
    }
   ],
   "source": [
    "# Map 'yes' to True, 'no' to False, and NaN to False (or keep NaN as-is)\n",
    "gdf[recycling_columns] = gdf[recycling_columns].applymap(\n",
    "    lambda x: True if x == 'yes' else False if x == 'no' else False\n",
    ")"
   ]
  },
  {
   "cell_type": "code",
   "execution_count": 90,
   "metadata": {},
   "outputs": [
    {
     "data": {
      "text/plain": [
       "(469, 41)"
      ]
     },
     "execution_count": 90,
     "metadata": {},
     "output_type": "execute_result"
    }
   ],
   "source": [
    "# Check for overlapping recycling categories\n",
    "gdf['overlap_count'] = gdf[recycling_columns].sum(axis=1)\n",
    "\n",
    "# Find baskets with multiple recycling categories enabled\n",
    "overlapping_baskets = gdf[gdf['overlap_count'] > 1]\n",
    "\n",
    "overlapping_baskets.shape"
   ]
  },
  {
   "cell_type": "code",
   "execution_count": 91,
   "metadata": {},
   "outputs": [],
   "source": [
    "gdf = gdf.drop(columns=['overlap_count'])"
   ]
  },
  {
   "cell_type": "markdown",
   "metadata": {},
   "source": [
    "Create the \"Waste_disposal_type\" database"
   ]
  },
  {
   "cell_type": "code",
   "execution_count": 97,
   "metadata": {},
   "outputs": [
    {
     "data": {
      "text/html": [
       "<div>\n",
       "<style scoped>\n",
       "    .dataframe tbody tr th:only-of-type {\n",
       "        vertical-align: middle;\n",
       "    }\n",
       "\n",
       "    .dataframe tbody tr th {\n",
       "        vertical-align: top;\n",
       "    }\n",
       "\n",
       "    .dataframe thead th {\n",
       "        text-align: right;\n",
       "    }\n",
       "</style>\n",
       "<table border=\"1\" class=\"dataframe\">\n",
       "  <thead>\n",
       "    <tr style=\"text-align: right;\">\n",
       "      <th></th>\n",
       "      <th>id</th>\n",
       "      <th>category</th>\n",
       "      <th>description</th>\n",
       "    </tr>\n",
       "  </thead>\n",
       "  <tbody>\n",
       "    <tr>\n",
       "      <th>0</th>\n",
       "      <td>1</td>\n",
       "      <td>Organic</td>\n",
       "      <td>Waste that is biodegradable and can be compost...</td>\n",
       "    </tr>\n",
       "    <tr>\n",
       "      <th>1</th>\n",
       "      <td>2</td>\n",
       "      <td>Paper/Cardboard</td>\n",
       "      <td>Recyclable materials like paper, cardboard, ne...</td>\n",
       "    </tr>\n",
       "    <tr>\n",
       "      <th>2</th>\n",
       "      <td>3</td>\n",
       "      <td>Glass</td>\n",
       "      <td>Recyclable glass items, including bottles, jar...</td>\n",
       "    </tr>\n",
       "    <tr>\n",
       "      <th>3</th>\n",
       "      <td>4</td>\n",
       "      <td>Metal</td>\n",
       "      <td>Recyclable metals like aluminum, cans, and scr...</td>\n",
       "    </tr>\n",
       "    <tr>\n",
       "      <th>4</th>\n",
       "      <td>5</td>\n",
       "      <td>Plastic</td>\n",
       "      <td>Recyclable plastic items, including PET, plast...</td>\n",
       "    </tr>\n",
       "  </tbody>\n",
       "</table>\n",
       "</div>"
      ],
      "text/plain": [
       "   id         category                                        description\n",
       "0   1          Organic  Waste that is biodegradable and can be compost...\n",
       "1   2  Paper/Cardboard  Recyclable materials like paper, cardboard, ne...\n",
       "2   3            Glass  Recyclable glass items, including bottles, jar...\n",
       "3   4            Metal  Recyclable metals like aluminum, cans, and scr...\n",
       "4   5          Plastic  Recyclable plastic items, including PET, plast..."
      ]
     },
     "execution_count": 97,
     "metadata": {},
     "output_type": "execute_result"
    }
   ],
   "source": [
    "# Define the categories with their descriptions\n",
    "categories = [\n",
    "    {\"id\": 1, \"category\": \"Organic\", \"description\": \"Waste that is biodegradable and can be composted, such as food scraps and organic waste.\"},\n",
    "    {\"id\": 2, \"category\": \"Paper/Cardboard\", \"description\": \"Recyclable materials like paper, cardboard, newspapers, magazines, and packaging.\"},\n",
    "    {\"id\": 3, \"category\": \"Glass\", \"description\": \"Recyclable glass items, including bottles, jars, and containers.\"},\n",
    "    {\"id\": 4, \"category\": \"Metal\", \"description\": \"Recyclable metals like aluminum, cans, and scrap metal.\"},\n",
    "    {\"id\": 5, \"category\": \"Plastic\", \"description\": \"Recyclable plastic items, including PET, plastic bottles, packaging, and plastic bags.\"},\n",
    "    {\"id\": 6, \"category\": \"Textiles\", \"description\": \"Recyclable clothing and textiles, including old clothes and shoes.\"},\n",
    "    {\"id\": 7, \"category\": \"Electronic Waste\", \"description\": \"Old or broken electronics like appliances, small electronics, and batteries.\"},\n",
    "    {\"id\": 8, \"category\": \"Wood\", \"description\": \"Recyclable wood waste, including garden pots, wooden furniture, and construction debris.\"},\n",
    "    {\"id\": 9, \"category\": \"Construction Waste\", \"description\": \"Waste from construction and demolition activities, including debris and non-recyclable materials.\"},\n",
    "    {\"id\": 10, \"category\": \"Miscellaneous\", \"description\": \"Items that do not fit into other categories, such as tetrapaks, garden pots, and other special materials.\"},\n",
    "]\n",
    "\n",
    "# Convert the list to a DataFrame\n",
    "category_df = pd.DataFrame(categories)\n",
    "\n",
    "category_df.head()\n"
   ]
  },
  {
   "cell_type": "code",
   "execution_count": 98,
   "metadata": {},
   "outputs": [],
   "source": [
    "# Save the DataFrame to a CSV file\n",
    "category_df.to_csv(\"waste_disposal_type.csv\", index=False)"
   ]
  },
  {
   "cell_type": "code",
   "execution_count": 93,
   "metadata": {},
   "outputs": [],
   "source": [
    "# Create a mapping from recycling columns to their index in 'category_df'\n",
    "recycling_category_mapping = {\n",
    "    'recycling:food_waste': 1, 'recycling:organic': 1, 'recycling:organic_waste': 1, 'recycling:garden_waste': 1, 'recycling:green_waste': 1,\n",
    "    'recycling:paper': 2, 'recycling:cardboard': 2, 'recycling:paper_packaging': 2, 'recycling:books': 2, 'recycling:magazines': 2, 'recycling:newspaper': 2,\n",
    "    'recycling:glass': 3, 'recycling:glass_bottles': 3, 'recycling:aluminium': 4, 'recycling:cans': 4, 'recycling:scrap_metal': 4, 'recycling:PET': 5,\n",
    "    'recycling:plastic': 5, 'recycling:plastic_bottles': 5, 'recycling:plastic_packaging': 5, 'recycling:beverage_cartons': 5, 'recycling:clothes': 6,\n",
    "    'recycling:shoes': 6, 'recycling:batteries': 7, 'recycling:electrical_appliances': 7, 'recycling:electrical_items': 7, 'recycling:small_appliances': 7,\n",
    "    'recycling:lamps': 7, 'recycling:wood': 8, 'recycling:garden_pots': 8, 'recycling:waste': 9, 'recycling:tetrapak': 10, 'recycling:bottles': 5, \n",
    "    'recycling:cartons': 2,  'recycling:drugs': 10   \n",
    "}"
   ]
  },
  {
   "cell_type": "code",
   "execution_count": 94,
   "metadata": {},
   "outputs": [
    {
     "name": "stdout",
     "output_type": "stream",
     "text": [
      "  waste_basket_id  waste_disposal_type_id\n",
      "0  node/290936230                       1\n",
      "1  node/290936230                       2\n",
      "2  node/290936230                       3\n",
      "3  node/290936230                       5\n",
      "4  node/296366977                       1\n"
     ]
    }
   ],
   "source": [
    "# Initialize a list to store rows for the new dataset\n",
    "basket_disposal_mapping = []\n",
    "\n",
    "# Iterate over each row in the waste_basket DataFrame \n",
    "for _, row in gdf.iterrows():\n",
    "    basket_id = row['id']  \n",
    "    \n",
    "    # Iterate over recycling columns to find enabled categories\n",
    "    for col, category_index in recycling_category_mapping.items():\n",
    "        if row[col] == True:  # Check if the basket supports this disposal type\n",
    "            # Append the index from 'category_df' instead of category name\n",
    "            basket_disposal_mapping.append({\n",
    "                'waste_basket_id': basket_id,\n",
    "                'waste_disposal_type_id': category_index  # Use the index\n",
    "            })\n",
    "\n",
    "# Create the new dataset as a DataFrame\n",
    "waste_baskets_disposal_type = pd.DataFrame(basket_disposal_mapping)\n",
    "\n",
    "# Optionally, map the index back to the category names for clarity\n",
    "#waste_baskets_disposal_type['disposal_type'] = waste_baskets_disposal_type['disposal_type_index'].map(category_df.set_index('index')['category'])\n",
    "\n",
    "# Display the first few rows of the new dataset\n",
    "print(waste_baskets_disposal_type.head())"
   ]
  },
  {
   "cell_type": "code",
   "execution_count": 95,
   "metadata": {},
   "outputs": [
    {
     "name": "stdout",
     "output_type": "stream",
     "text": [
      "   id waste_basket_id  waste_disposal_type_id\n",
      "0   0  node/290936230                       1\n",
      "1   1  node/290936230                       2\n",
      "2   2  node/290936230                       3\n",
      "3   3  node/290936230                       5\n",
      "4   4  node/296366977                       1\n"
     ]
    }
   ],
   "source": [
    "# Add a new column 'id' with the index of each row\n",
    "waste_baskets_disposal_type['id'] = waste_baskets_disposal_type.index\n",
    "waste_baskets_disposal_type = waste_baskets_disposal_type[['id'] + [col for col in waste_baskets_disposal_type.columns if col != 'id']]\n",
    "\n",
    "\n",
    "# Display the updated DataFrame\n",
    "print(waste_baskets_disposal_type.head())\n"
   ]
  },
  {
   "cell_type": "code",
   "execution_count": 34,
   "metadata": {},
   "outputs": [],
   "source": [
    "waste_baskets_disposal_type.to_csv(\"waste_baskets_disposal_type.csv\", index=False)"
   ]
  },
  {
   "cell_type": "code",
   "execution_count": 96,
   "metadata": {},
   "outputs": [],
   "source": [
    "# Save to CSV\n",
    "gdf.to_csv(\"waste_baskets.csv\", index=False)"
   ]
  }
 ],
 "metadata": {
  "kernelspec": {
   "display_name": "Python 3",
   "language": "python",
   "name": "python3"
  },
  "language_info": {
   "codemirror_mode": {
    "name": "ipython",
    "version": 3
   },
   "file_extension": ".py",
   "mimetype": "text/x-python",
   "name": "python",
   "nbconvert_exporter": "python",
   "pygments_lexer": "ipython3",
   "version": "3.12.0"
  }
 },
 "nbformat": 4,
 "nbformat_minor": 2
}
