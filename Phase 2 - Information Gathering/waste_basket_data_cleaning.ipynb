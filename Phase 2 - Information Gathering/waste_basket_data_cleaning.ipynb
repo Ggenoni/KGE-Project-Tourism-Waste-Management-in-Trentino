{
 "cells": [
  {
   "cell_type": "markdown",
   "metadata": {},
   "source": [
    "### Dataset \"Waste baskets\"\n",
    "\n",
    "The geojson represents all the waste baskets and recycle bins in the Trento Province annotated by Open Street Map community users.  \n",
    "The data was collected via Overpass Turbo by running the following script:\n",
    "\n",
    "```\n",
    "[out:json];\n",
    "area[\"name\"=\"Provincia di Trento\"]->.a; // Define the Province of Trento\n",
    "(\n",
    "  node[\"amenity\"=\"waste_basket\"](area.a); // Waste baskets\n",
    "  node[\"amenity\"=\"recycling\"](area.a); // Recycling points\n",
    "  node[\"amenity\"=\"waste_basket\"][\"waste:organic\"=\"yes\"](area.a); // Organic waste bins\n",
    "  node[\"amenity\"=\"recycling\"][\"recycling:glass\"=\"yes\"](area.a); // Glass recycling points\n",
    "  node[\"amenity\"=\"recycling\"][\"recycling:plastic\"=\"yes\"](area.a); // Plastic recycling points\n",
    "  node[\"amenity\"=\"recycling\"][\"recycling:paper\"=\"yes\"](area.a); // Paper recycling points\n",
    "  node[\"amenity\"=\"waste_disposal\"](area.a); // Waste collection points\n",
    "  node[\"amenity\"=\"waste_collection_point\"](area.a); // Waste collection bins\n",
    ");\n",
    "out body;\n",
    ">;\n",
    "out skel qt;\n",
    "```\n",
    "\n",
    "\n",
    "You may also look at the [map](https://overpass-turbo.eu/map.html?Q=%5Bout%3Ajson%5D%3B%0Aarea%5B%22name%22%3D%22Provincia+di+Trento%22%5D-%3E.a%3B+%2F%2F+Define+the+Province+of+Trento%0A%28%0A++node%5B%22amenity%22%3D%22waste_basket%22%5D%28area.a%29%3B+%2F%2F+Waste+baskets%0A++node%5B%22amenity%22%3D%22recycling%22%5D%28area.a%29%3B+%2F%2F+Recycling+points%0A++node%5B%22amenity%22%3D%22waste_basket%22%5D%5B%22waste%3Aorganic%22%3D%22yes%22%5D%28area.a%29%3B+%2F%2F+Organic+waste+bins%0A++node%5B%22amenity%22%3D%22recycling%22%5D%5B%22recycling%3Aglass%22%3D%22yes%22%5D%28area.a%29%3B+%2F%2F+Glass+recycling+points%0A++node%5B%22amenity%22%3D%22recycling%22%5D%5B%22recycling%3Aplastic%22%3D%22yes%22%5D%28area.a%29%3B+%2F%2F+Plastic+recycling+points%0A++node%5B%22amenity%22%3D%22recycling%22%5D%5B%22recycling%3Apaper%22%3D%22yes%22%5D%28area.a%29%3B+%2F%2F+Paper+recycling+points%0A++node%5B%22amenity%22%3D%22waste_disposal%22%5D%28area.a%29%3B+%2F%2F+Waste+collection+points%0A++node%5B%22amenity%22%3D%22waste_collection_point%22%5D%28area.a%29%3B+%2F%2F+Waste+collection+bins%0A%29%3B%0Aout+body%3B%0A%3E%3B%0Aout+skel+qt%3B%0A%0A) to find the exact location of the points."
   ]
  },
  {
   "cell_type": "code",
   "execution_count": null,
   "metadata": {},
   "outputs": [],
   "source": [
    "import geopandas as gpd"
   ]
  },
  {
   "cell_type": "code",
   "execution_count": null,
   "metadata": {},
   "outputs": [],
   "source": [
    "# Load the GeoJSON file\n",
    "geojson_file = 'waste_baskets_original.geojson'\n",
    "gdf = gpd.read_file(geojson_file)"
   ]
  },
  {
   "cell_type": "code",
   "execution_count": null,
   "metadata": {},
   "outputs": [],
   "source": [
    "gdf.shape"
   ]
  },
  {
   "cell_type": "code",
   "execution_count": null,
   "metadata": {},
   "outputs": [],
   "source": [
    "gdf.columns"
   ]
  },
  {
   "cell_type": "code",
   "execution_count": null,
   "metadata": {},
   "outputs": [],
   "source": [
    "# Check which columns contain only NaN or None values\n",
    "nan_columns = gdf.isna().all()\n",
    "\n",
    "# Print the columns that have only NaN/None values\n",
    "print(nan_columns[nan_columns == True].index)"
   ]
  },
  {
   "cell_type": "code",
   "execution_count": null,
   "metadata": {},
   "outputs": [],
   "source": [
    "# Get the list of columns\n",
    "cols_to_drop = gdf.columns.tolist()\n",
    "\n",
    "# Find the start and end indices for each range you want to drop\n",
    "start1 = cols_to_drop.index('ash')\n",
    "end1 = cols_to_drop.index('public_transport') + 1  # Include 'public_transport'\n",
    "\n",
    "start2 = cols_to_drop.index('ref')\n",
    "end2 = cols_to_drop.index('wheelchair') + 1  # Include 'wheelchair'\n",
    "\n",
    "# Drop the columns in both ranges plus the '@id' column\n",
    "gdf = gdf.drop(columns=cols_to_drop[start1:end1] + cols_to_drop[start2:end2] + ['@id'])\n"
   ]
  },
  {
   "cell_type": "code",
   "execution_count": null,
   "metadata": {},
   "outputs": [],
   "source": [
    "gdf.shape"
   ]
  },
  {
   "cell_type": "code",
   "execution_count": null,
   "metadata": {},
   "outputs": [],
   "source": [
    "gdf['geometry'] = gdf['geometry'].apply(lambda x: x.wkt)"
   ]
  },
  {
   "cell_type": "code",
   "execution_count": null,
   "metadata": {},
   "outputs": [],
   "source": [
    "gdf.geometry"
   ]
  },
  {
   "cell_type": "code",
   "execution_count": null,
   "metadata": {},
   "outputs": [],
   "source": [
    "# Save to CSV\n",
    "gdf.to_csv(\"waste_baskets.csv\", index=False)"
   ]
  }
 ],
 "metadata": {
  "language_info": {
   "name": "python"
  }
 },
 "nbformat": 4,
 "nbformat_minor": 2
}
