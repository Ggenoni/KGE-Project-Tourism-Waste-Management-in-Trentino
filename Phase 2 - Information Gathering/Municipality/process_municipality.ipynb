{
 "cells": [
  {
   "cell_type": "code",
   "execution_count": 6,
   "metadata": {},
   "outputs": [],
   "source": [
    "import json\n",
    "import pandas as pd\n",
    "from shapely.geometry import Polygon, MultiPolygon, shape\n",
    "from shapely.wkt import dumps  # Convert geometries to WKT\n",
    "\n",
    "# Load the GeoJSON file\n",
    "with open(\"Cleaned_Municipality.geojson\") as f:\n",
    "    data = json.load(f)\n",
    "\n",
    "\n",
    "\n",
    "# Initialize a list to store extracted data\n",
    "municipality_list = []\n",
    "\n",
    "# Iterate through each municipality feature\n",
    "for feature in data:\n",
    "    properties = feature.get(\"properties\", {})\n",
    "    geometry = feature.get(\"geometry\", {})\n",
    "\n",
    "    # Extract required fields\n",
    "    name = properties.get(\"name\", \"Unknown\")\n",
    "    population = properties.get(\"population\", 0)\n",
    "    istat_code = properties.get(\"ref:ISTAT\", \"Unknown\")\n",
    "\n",
    "    # Convert geometry to WKT format\n",
    "    geom_object = shape(geometry)  # Convert to Shapely shape\n",
    "    geometry_wkt = dumps(geom_object) if isinstance(geom_object, (Polygon, MultiPolygon)) else None\n",
    "\n",
    "    # Append to list\n",
    "    municipality_list.append({\n",
    "        \"name\": name,\n",
    "        \"population\": population,\n",
    "        \"ref:ISTAT\": istat_code,\n",
    "        \"geometry\": geometry_wkt\n",
    "    })\n",
    "\n",
    "# Convert to DataFrame\n",
    "df = pd.DataFrame(municipality_list)\n"
   ]
  },
  {
   "cell_type": "code",
   "execution_count": 13,
   "metadata": {},
   "outputs": [],
   "source": [
    "\n",
    "# Save to CSV\n",
    "df.to_csv(\"municipality_data.csv\", index=False)\n",
    "\n"
   ]
  }
 ],
 "metadata": {
  "kernelspec": {
   "display_name": "kge_env",
   "language": "python",
   "name": "python3"
  },
  "language_info": {
   "codemirror_mode": {
    "name": "ipython",
    "version": 3
   },
   "file_extension": ".py",
   "mimetype": "text/x-python",
   "name": "python",
   "nbconvert_exporter": "python",
   "pygments_lexer": "ipython3",
   "version": "3.7.12"
  }
 },
 "nbformat": 4,
 "nbformat_minor": 2
}
