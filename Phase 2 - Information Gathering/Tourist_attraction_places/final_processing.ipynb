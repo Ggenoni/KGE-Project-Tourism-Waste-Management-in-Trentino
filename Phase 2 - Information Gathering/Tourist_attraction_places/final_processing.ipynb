{
 "cells": [
  {
   "cell_type": "code",
   "execution_count": 30,
   "metadata": {},
   "outputs": [],
   "source": [
    "import pandas as pd\n",
    "import numpy as np \n",
    "import json\n",
    "import geopandas as gpd\n",
    "from pprint import pprint\n",
    "import os"
   ]
  },
  {
   "cell_type": "code",
   "execution_count": 40,
   "metadata": {},
   "outputs": [],
   "source": [
    "directory = \"./processed_data/\"\n",
    "\n",
    "dataframes = {}\n",
    "for filename in os.listdir(directory):\n",
    "    if filename.endswith(\".csv\"):  \n",
    "        file_path = os.path.join(directory, filename)\n",
    "        try:\n",
    "            df = pd.read_csv(file_path)\n",
    "            dataframes[filename] = {\n",
    "                \"columns\": df.columns.tolist(),\n",
    "                \"values\": df.values.tolist()\n",
    "            }\n",
    "            \n",
    "        except Exception as e:\n",
    "            print(f\"Could not read {filename} due to: {e}\")\n"
   ]
  },
  {
   "cell_type": "code",
   "execution_count": 41,
   "metadata": {},
   "outputs": [],
   "source": [
    "# Create placeholder dataframes for simulation\n",
    "dfs = {\n",
    "    name[:-4]: pd.DataFrame(columns=columns['columns'], data=columns['values']) for name, columns in dataframes.items()\n",
    "}\n"
   ]
  },
  {
   "cell_type": "code",
   "execution_count": 42,
   "metadata": {},
   "outputs": [],
   "source": [
    "final_columns = [\n",
    "    \"ID\", \"Name\", \"Type\", \"Latitude\", \"Longitude\", \"Description\", \"Details\",\n",
    "    \"Address\", \"Geometry\", \"Contact\"\n",
    "]\n"
   ]
  },
  {
   "cell_type": "code",
   "execution_count": null,
   "metadata": {},
   "outputs": [],
   "source": []
  },
  {
   "cell_type": "code",
   "execution_count": 43,
   "metadata": {},
   "outputs": [],
   "source": [
    "\n",
    "final_rows = []\n",
    "\n",
    "# Process each dataframe\n",
    "for df_name, df_columns in dataframes.items():\n",
    "    # Load the simulated dataframe\n",
    "    df = dfs[df_name[:-4]]\n",
    "    \n",
    "    # Standardize column names\n",
    "    standardized = {\n",
    "        \"ID\": df[\"id\"] if \"id\" in df.columns else None,\n",
    "        \"Name\": df[\"name\"] if \"name\" in df.columns else None,\n",
    "        \"Type\": df[\"type\"] if \"type\" in df.columns else None,\n",
    "        \"Latitude\": df[\"latitude\"] if \"latitude\" in df.columns else None,\n",
    "        \"Longitude\": df[\"longitude\"] if \"longitude\" in df.columns else None,\n",
    "        \"Description\": df[\"description\"] if \"description\" in df.columns else None,\n",
    "        \"Details\": df.apply(\n",
    "            lambda row: \", \".join(f\"{col}: {row[col]}\" for col in df.columns if col not in [\"id\", \"name\", \"latitude\", \"longitude\", \"description\", \"country\",\"city\", \"street\", \"postcode\", \"bounds\", \"geometry\", \"email\", \"phone\", \"type\",\"housenumber\", \"website\"] and pd.notna(row[col])),\n",
    "            axis=1\n",
    "        ) if len(df) > 0 else None,\n",
    "        \"Address\": df.apply(\n",
    "            lambda row: \", \".join(str(row[col]) for col in [\"country\", \"city\",\"street\", \"postcode\", \"housenumber\"] if col in df.columns and pd.notna(row[col])),\n",
    "            axis=1\n",
    "        ) if len(df) > 0 else None,\n",
    "        \"Geometry\": df[\"geometry\"] if \"geometry\" in df.columns else None,\n",
    "        \"Contact\": df.apply(\n",
    "            lambda row: \", \".join(str(row[col]) for col in [\"email\", \"phone\", \"website\"] if col in df.columns and pd.notna(row[col])),\n",
    "            axis=1\n",
    "        ) if len(df) > 0 else None,\n",
    "    }\n",
    "    \n",
    "    # Convert standardized dictionary to a DataFrame\n",
    "    standardized_df = pd.DataFrame(standardized)\n",
    "    \n",
    "    # Append standardized dataframe to the final rows\n",
    "    final_rows.append(standardized_df)\n",
    "\n",
    "\n"
   ]
  },
  {
   "cell_type": "code",
   "execution_count": 44,
   "metadata": {},
   "outputs": [],
   "source": [
    "# Concatenate all rows into a final dataframe\n",
    "final_df = pd.concat(final_rows, ignore_index=True)\n",
    "\n",
    "# Reorder columns according to desired schema\n",
    "final_df = final_df[final_columns]\n",
    "\n"
   ]
  },
  {
   "cell_type": "code",
   "execution_count": 45,
   "metadata": {},
   "outputs": [],
   "source": [
    "final_df.to_csv('./final_processed_data.csv', index=False)"
   ]
  },
  {
   "cell_type": "code",
   "execution_count": null,
   "metadata": {},
   "outputs": [],
   "source": []
  }
 ],
 "metadata": {
  "kernelspec": {
   "display_name": "kge_env",
   "language": "python",
   "name": "python3"
  },
  "language_info": {
   "codemirror_mode": {
    "name": "ipython",
    "version": 3
   },
   "file_extension": ".py",
   "mimetype": "text/x-python",
   "name": "python",
   "nbconvert_exporter": "python",
   "pygments_lexer": "ipython3",
   "version": "3.7.12"
  }
 },
 "nbformat": 4,
 "nbformat_minor": 2
}
