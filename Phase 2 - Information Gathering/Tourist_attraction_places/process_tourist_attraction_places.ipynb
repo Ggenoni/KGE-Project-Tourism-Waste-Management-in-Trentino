{
 "cells": [
  {
   "cell_type": "markdown",
   "metadata": {},
   "source": [
    "## Import Packages"
   ]
  },
  {
   "cell_type": "code",
   "execution_count": 1,
   "metadata": {},
   "outputs": [],
   "source": [
    "import pandas as pd\n",
    "import json\n",
    "import geopandas as gpd\n",
    "from pprint import pprint\n",
    "from shapely.geometry import Point, LineString, Polygon\n"
   ]
  },
  {
   "cell_type": "markdown",
   "metadata": {},
   "source": [
    "## Process Data"
   ]
  },
  {
   "cell_type": "code",
   "execution_count": 125,
   "metadata": {},
   "outputs": [],
   "source": [
    "def geometry_from_overpass(element):\n",
    "    coords = [(coord[\"lon\"], coord[\"lat\"]) for coord in element[\"geometry\"]]\n",
    "\n",
    "    if coords[0] == coords[-1]:\n",
    "        return Polygon(coords)\n",
    "    else:\n",
    "        return LineString(coords)\n",
    "\n",
    "\n",
    "def get_gdf(data_dir):\n",
    "    try:\n",
    "        with open(data_dir, encoding=\"utf-8\") as f:\n",
    "            data = json.load(f)\n",
    "    except:\n",
    "        exception = \"Error: Could not load the file\"\n",
    "        return exception\n",
    "            \n",
    "    features = []\n",
    "\n",
    "    for element in data[\"elements\"]:\n",
    "        el_type = element[\"type\"]\n",
    "        tags = element.get(\"tags\", {})\n",
    "        tags[\"id\"] = element[\"id\"]\n",
    "        element[\"tags\"][\"name\"] = element[\"tags\"].get(\"name\", \"Unnamed\")\n",
    "        element[\"tags\"][\"latitude\"] = element.get(\"lat\", None)\n",
    "        element[\"tags\"][\"longitude\"] = element.get(\"lon\", None)\n",
    "\n",
    "        if el_type in [\"way\", \"relation\"] and \"geometry\" in element:\n",
    "            geom = geometry_from_overpass(element)\n",
    "            features.append({**tags, \"geometry\": geom})\n",
    "\n",
    "        elif el_type == \"node\":\n",
    "            lon = element[\"lon\"]\n",
    "            lat = element[\"lat\"]\n",
    "            geom = Point(lon, lat)\n",
    "            features.append({**tags, \"geometry\": geom})\n",
    "\n",
    "    return gpd.GeoDataFrame(features, crs=\"EPSG:4326\")\n"
   ]
  },
  {
   "cell_type": "markdown",
   "metadata": {},
   "source": [
    "### Caves"
   ]
  },
  {
   "cell_type": "code",
   "execution_count": 305,
   "metadata": {},
   "outputs": [],
   "source": [
    "gdf = get_gdf(\"./raw_data/caves.geojson\")\n",
    "caves_columns = [\"id\", \"name\", \"longitude\",\"latitude\",\"geometry\"]\n",
    "caves_df = gdf[caves_columns]\n",
    "caves_df[:]['type'] = 'cave'"
   ]
  },
  {
   "cell_type": "code",
   "execution_count": 306,
   "metadata": {},
   "outputs": [],
   "source": [
    "caves_df.to_csv(\"./processed_data/caves.csv\", index=False, sep=\";\")"
   ]
  },
  {
   "cell_type": "markdown",
   "metadata": {},
   "source": [
    "### Cultural Attractions"
   ]
  },
  {
   "cell_type": "markdown",
   "metadata": {},
   "source": [
    "These include\n",
    "* artworks\n",
    "* memorials\n",
    "* Galleries and Museums\n",
    "* Castles"
   ]
  },
  {
   "cell_type": "code",
   "execution_count": 307,
   "metadata": {},
   "outputs": [],
   "source": [
    "gdf = get_gdf(\"./raw_data/cultural_attractions.geojson\")\n"
   ]
  },
  {
   "cell_type": "code",
   "execution_count": 308,
   "metadata": {},
   "outputs": [],
   "source": [
    "artworks_df = gdf[gdf.tourism=='artwork'][['id', 'name', 'latitude', 'longitude','geometry', 'artist_name', 'description', 'source:website','artwork_type']]\n",
    "memorials_df = gdf[gdf.historic.isin(['memorial','monument','castle']) ][['id', 'name', 'latitude', 'longitude','geometry','memorial', 'historic', 'inscription']]\n",
    "gallery_and_museum_df = gdf[gdf.tourism.isin(['gallery','museum'])][['id', 'name', 'latitude', 'longitude','geometry','contact:website','tourism','addr:street','addr:city','addr:postcode','addr:housenumber']]"
   ]
  },
  {
   "cell_type": "code",
   "execution_count": 309,
   "metadata": {},
   "outputs": [],
   "source": [
    "artworks_df.rename(columns={'artwork_type':'type', 'source:website':'website'}, inplace=True)\n",
    "memorials_df['type'] = memorials_df['historic'] + memorials_df['memorial']\n",
    "memorials_df.rename(columns={'memorial':'memorial_type'}, inplace=True)\n",
    "memorials_df.drop(columns=['historic'], inplace=True)\n",
    "gallery_and_museum_df.rename(columns={'addr:street':'street', 'addr:city':'city', 'addr:postcode':'postcode', 'addr:housenumber':'housenumber', 'contact:website':'website'}, inplace=True)"
   ]
  },
  {
   "cell_type": "code",
   "execution_count": 176,
   "metadata": {},
   "outputs": [],
   "source": [
    "artworks_df.to_csv(\"./processed_data/artworks.csv\", index=False, sep=\";\")\n",
    "memorials_df.to_csv(\"./processed_data/memorials.csv\", index=False, sep=\";\")\n",
    "gallery_and_museum_df.to_csv(\"./processed_data/gallery_and_museums.csv\", index=False, sep=\";\")"
   ]
  },
  {
   "cell_type": "markdown",
   "metadata": {},
   "source": [
    "### Food and Drink Establishments"
   ]
  },
  {
   "cell_type": "code",
   "execution_count": 196,
   "metadata": {},
   "outputs": [],
   "source": [
    "gdf = get_gdf(\"./raw_data/food_and_drink_establishments.geojson\")\n"
   ]
  },
  {
   "cell_type": "code",
   "execution_count": 216,
   "metadata": {},
   "outputs": [],
   "source": [
    "food_and_drink_establishments_df = gdf[['id','latitude','longitude','geometry','name','cuisine','operator',\n",
    "                                        'addr:street','addr:city','addr:postcode','addr:housenumber',\n",
    "                                        'contact:website','phone','contact:phone','contact:email','website',\n",
    "                                        'amenity'\n",
    "                                        ]].copy(deep=True)"
   ]
  },
  {
   "cell_type": "code",
   "execution_count": 217,
   "metadata": {},
   "outputs": [],
   "source": [
    "food_and_drink_establishments_df.website.isna().sum(), food_and_drink_establishments_df['contact:website'].isna().sum(), \n",
    "food_and_drink_establishments_df[:]['website'] = food_and_drink_establishments_df['website'].combine_first(food_and_drink_establishments_df['contact:website'])\n",
    "food_and_drink_establishments_df[:]['phone'] = food_and_drink_establishments_df['phone'].combine_first(food_and_drink_establishments_df['contact:phone'])\n",
    "food_and_drink_establishments_df.rename(columns={'addr:street':'street', 'addr:city':'city', 'addr:postcode':'postcode', 'addr:housenumber':'housenumber','amenity':'type','contact:email':'email'}, inplace=True)\n",
    "food_and_drink_establishments_df.drop(columns=['contact:website', 'contact:phone'], inplace=True)"
   ]
  },
  {
   "cell_type": "code",
   "execution_count": 218,
   "metadata": {},
   "outputs": [],
   "source": [
    "food_and_drink_establishments_df.to_csv(\"./processed_data/food_and_drink_establishments.csv\", index=False,sep=\";\")"
   ]
  },
  {
   "cell_type": "markdown",
   "metadata": {},
   "source": [
    "### Holiday Apartments and Houses"
   ]
  },
  {
   "cell_type": "code",
   "execution_count": 219,
   "metadata": {},
   "outputs": [],
   "source": [
    "gdf = get_gdf(\"./raw_data/holiday_apartments_and_houses.geojson\")\n",
    "\n",
    "holiday_apartments_and_houses_df = gdf[['id','latitude','longitude','geometry','name','addr:street', 'addr:city','addr:postcode','addr:housenumber','contact:website','contact:phone','contact:email','website','phone','email','tourism']].copy(deep=True)\n"
   ]
  },
  {
   "cell_type": "code",
   "execution_count": 236,
   "metadata": {},
   "outputs": [],
   "source": [
    "holiday_apartments_and_houses_df[:]['website'] = holiday_apartments_and_houses_df['website'].combine_first(holiday_apartments_and_houses_df['contact:website'])\n",
    "holiday_apartments_and_houses_df[:]['phone'] = holiday_apartments_and_houses_df['phone'].combine_first(holiday_apartments_and_houses_df['contact:phone'])\n",
    "holiday_apartments_and_houses_df[:]['email'] = holiday_apartments_and_houses_df['email'].combine_first(holiday_apartments_and_houses_df['contact:email'])\n",
    "holiday_apartments_and_houses_df.rename(columns={'addr:street':'street', 'addr:city':'city', 'addr:postcode':'postcode', 'addr:housenumber':'housenumber','tourism':'type'}, inplace=True)\n",
    "\n",
    "holiday_apartments_and_houses_df.drop(columns=['contact:website', 'contact:phone', 'contact:email'], inplace=True)"
   ]
  },
  {
   "cell_type": "code",
   "execution_count": 238,
   "metadata": {},
   "outputs": [],
   "source": [
    "holiday_apartments_and_houses_df.to_csv(\"./processed_data/holiday_apartments_and_houses.csv\", index=False, sep=\";\")\n"
   ]
  },
  {
   "cell_type": "markdown",
   "metadata": {},
   "source": [
    "### Hotels and Accomodation"
   ]
  },
  {
   "cell_type": "code",
   "execution_count": 239,
   "metadata": {},
   "outputs": [],
   "source": [
    "gdf = get_gdf(\"./raw_data/hotels_and_accommodation.geojson\")\n",
    "\n",
    "hotels_and_accommodation_df = gdf[['id','latitude','longitude','geometry','name','tourism',\n",
    "                                   'addr:street', 'addr:city','addr:postcode','addr:housenumber',\n",
    "                                   'cuisine','description','operator',\n",
    "                                   'contact:website','contact:phone','contact:email','website','phone','email']].copy(deep=True)\n",
    "\n"
   ]
  },
  {
   "cell_type": "code",
   "execution_count": 240,
   "metadata": {},
   "outputs": [],
   "source": [
    "hotels_and_accommodation_df[:]['website'] = hotels_and_accommodation_df['website'].combine_first(hotels_and_accommodation_df['contact:website'])\n",
    "hotels_and_accommodation_df[:]['phone'] = hotels_and_accommodation_df['phone'].combine_first(hotels_and_accommodation_df['contact:phone'])\n",
    "hotels_and_accommodation_df[:]['email'] = hotels_and_accommodation_df['email'].combine_first(hotels_and_accommodation_df['contact:email'])\n",
    "hotels_and_accommodation_df.rename(columns={'addr:street':'street', 'addr:city':'city', 'addr:postcode':'postcode', 'addr:housenumber':'housenumber','tourism':'type'}, inplace=True)\n",
    "\n",
    "hotels_and_accommodation_df.drop(columns=['contact:website', 'contact:phone', 'contact:email'], inplace=True)"
   ]
  },
  {
   "cell_type": "code",
   "execution_count": 244,
   "metadata": {},
   "outputs": [],
   "source": [
    "hotels_and_accommodation_df.to_csv(\"./processed_data/hotels_and_accommodation.csv\", index=False,sep=\";\")\n"
   ]
  },
  {
   "cell_type": "markdown",
   "metadata": {},
   "source": [
    "### Lakes and Rivers"
   ]
  },
  {
   "cell_type": "code",
   "execution_count": 247,
   "metadata": {},
   "outputs": [],
   "source": [
    "with open('./raw_data/lakes_and_rivers.geojson', \"r\") as file:\n",
    "    data = json.load(file)\n"
   ]
  },
  {
   "cell_type": "code",
   "execution_count": 258,
   "metadata": {},
   "outputs": [],
   "source": [
    "# Initialize lists to hold lake and river data\n",
    "lakes = []\n",
    "rivers = []\n",
    "\n",
    "# Process each element in the JSON data\n",
    "for element in data[\"elements\"]:\n",
    "    tags = element.get(\"tags\", {})\n",
    "    \n",
    "    # Extract lakes based on 'natural=water' and 'water=lake'\n",
    "    if tags.get(\"natural\") == \"water\" and tags.get(\"water\") == \"lake\":\n",
    "        if element[\"type\"] == \"relation\":\n",
    "            lakes.append({\n",
    "                \"id\": element[\"id\"],\n",
    "                \"name\": tags.get(\"name\", \"Unnamed\"),\n",
    "                \"latitude\": element.get(\"center\", {}).get(\"lat\") if element[\"type\"] == \"relation\" else element.get(\"lat\"),\n",
    "                \"longitude\": element.get(\"center\", {}).get(\"lon\") if element[\"type\"] == \"relation\" else element.get(\"lon\"),\n",
    "                \"bounds\": element.get(\"bounds\", ''),\n",
    "                \"geometry\":element.get(\"members\", {})[0].get(\"geometry\", ''),\n",
    "                \"type\": \"lake\",\n",
    "                \n",
    "            })\n",
    "            \n",
    "    \n",
    "    # Extract rivers based on 'waterway=river'\n",
    "    elif tags.get(\"waterway\") == \"river\":\n",
    "        rivers.append({\n",
    "            \"id\": element[\"id\"],\n",
    "            \"name\": tags.get(\"name\", \"Unnamed\"),\n",
    "            \"latitude\": element.get(\"center\", {}).get(\"lat\") ,\n",
    "            \"longitude\": element.get(\"center\", {}).get(\"lon\"),\n",
    "            \"bounds\": element.get(\"bounds\", ''),\n",
    "            \"geometry\":element.get(\"geometry\", ''),\n",
    "            \"type\": \"river\",\n",
    "        })\n",
    "\n",
    "# Create DataFrames for lakes and rivers\n",
    "lakes_df = pd.DataFrame(lakes)\n",
    "rivers_df = pd.DataFrame(rivers)\n",
    "\n",
    "\n"
   ]
  },
  {
   "cell_type": "code",
   "execution_count": 259,
   "metadata": {},
   "outputs": [
    {
     "data": {
      "text/plain": [
       "(163, 7)"
      ]
     },
     "execution_count": 259,
     "metadata": {},
     "output_type": "execute_result"
    }
   ],
   "source": [
    "rivers_df.shape"
   ]
  },
  {
   "cell_type": "code",
   "execution_count": 268,
   "metadata": {},
   "outputs": [],
   "source": [
    "lakes_df.to_csv(\"./processed_data/lakes.csv\", index=False, sep=\";\")\n",
    "rivers_df.to_csv(\"./processed_data/rivers.csv\", index=False, sep=\";\")"
   ]
  },
  {
   "cell_type": "markdown",
   "metadata": {},
   "source": [
    "### Beaches"
   ]
  },
  {
   "cell_type": "code",
   "execution_count": 261,
   "metadata": {},
   "outputs": [],
   "source": [
    "with open('./raw_data/beaches.geojson', \"r\") as file:\n",
    "    data = json.load(file)\n"
   ]
  },
  {
   "cell_type": "code",
   "execution_count": 262,
   "metadata": {},
   "outputs": [
    {
     "data": {
      "text/plain": [
       "{'access',\n",
       " 'created_by',\n",
       " 'description',\n",
       " 'dog',\n",
       " 'leisure',\n",
       " 'lifeguard',\n",
       " 'name',\n",
       " 'natural',\n",
       " 'sport',\n",
       " 'supervised',\n",
       " 'surface'}"
      ]
     },
     "execution_count": 262,
     "metadata": {},
     "output_type": "execute_result"
    }
   ],
   "source": [
    "tag_items = {tag for element in data[\"elements\"] for tag in element.get(\"tags\", {})}\n",
    "tag_items"
   ]
  },
  {
   "cell_type": "code",
   "execution_count": 266,
   "metadata": {},
   "outputs": [],
   "source": [
    "# Initialize lists to hold lake and river data\n",
    "beach = []\n",
    "\n",
    "# Process each element in the JSON data\n",
    "for element in data[\"elements\"]:\n",
    "    tags = element.get(\"tags\", {})\n",
    "    # Extract beaches based on 'natural=beach' \n",
    "    if tags.get(\"natural\") == \"beach\":\n",
    "        if element[\"type\"] == \"node\":\n",
    "            beach.append({\n",
    "                \"id\": \"beach_id_\"+str(element[\"id\"]),\n",
    "                \"name\": tags.get(\"name\", \"Unnamed\"),\n",
    "                \"latitude\": element.get(\"lat\"),\n",
    "                \"longitude\": element.get(\"lon\"),\n",
    "                \"bounds\": element.get(\"bounds\", ''),\n",
    "                \"geometry\":element.get(\"geometry\", ''),\n",
    "                \"type\": tags.get(\"natural\", \"beach\")+(':'+tags.get(\"surface\", \"\")) if tags.get(\"surface\") else 'beach',\n",
    "            })\n",
    "        else:\n",
    "            beach.append({\n",
    "                \"id\": \"beach_id_\"+str(element[\"id\"]),\n",
    "                \"name\": tags.get(\"name\", \"Unnamed\"),\n",
    "                \"latitude\": element.get(\"lat\"),\n",
    "                \"longitude\": element.get(\"lon\"),\n",
    "                \"bounds\": element.get(\"bounds\", ''),\n",
    "                \"geometry\":element.get(\"geometry\", ''),\n",
    "                \"type\": tags.get(\"natural\", \"beach\")+(':'+tags.get(\"surface\", \"\")) if tags.get(\"surface\") else 'beach',\n",
    "                \n",
    "            })\n",
    "    \n",
    "\n",
    "# Create DataFrames for beach\n",
    "beach_df = pd.DataFrame(beach)\n",
    "\n",
    "\n"
   ]
  },
  {
   "cell_type": "code",
   "execution_count": 269,
   "metadata": {},
   "outputs": [],
   "source": [
    "beach_df.to_csv(\"./processed_data/beaches.csv\", index=False, sep=\";\")"
   ]
  },
  {
   "cell_type": "markdown",
   "metadata": {},
   "source": [
    "### Peaks and Viewpoints"
   ]
  },
  {
   "cell_type": "code",
   "execution_count": 275,
   "metadata": {},
   "outputs": [],
   "source": [
    "gdf = get_gdf(\"./raw_data/peaks_and_viewpoints.geojson\")\n",
    "\n",
    "\n",
    "peaks_and_viewpoints_df = gdf[[\"id\", \"name\", \"longitude\",\"latitude\",\"geometry\", \"description\",\"historic\", \"amenity\",\"height\",\"website\",\"natural\" ]].copy(deep=True)\n",
    "peaks_and_viewpoints_df.rename(columns={'natural':'type'}, inplace=True)"
   ]
  },
  {
   "cell_type": "code",
   "execution_count": 277,
   "metadata": {},
   "outputs": [],
   "source": [
    "peaks_and_viewpoints_df.to_csv(\"./processed_data/peaks_and_viewpoints.csv\", index=False, sep=\";\")"
   ]
  },
  {
   "cell_type": "markdown",
   "metadata": {},
   "source": [
    "### Protected Areas"
   ]
  },
  {
   "cell_type": "code",
   "execution_count": 286,
   "metadata": {},
   "outputs": [],
   "source": [
    "with open('./raw_data/protected_areas.geojson', \"r\") as file:\n",
    "    data = json.load(file)"
   ]
  },
  {
   "cell_type": "code",
   "execution_count": 287,
   "metadata": {},
   "outputs": [],
   "source": [
    "\n",
    "\n",
    "protected_areas = []\n",
    "\n",
    "\n",
    "for element in data[\"elements\"]:\n",
    "    tags = element.get(\"tags\", {})\n",
    "    protected_areas.append({\n",
    "        \"id\": \"PA_id_\"+ str(element[\"id\"]),\n",
    "        \"latitude\": element['center'][\"lat\"],\n",
    "        \"longitude\": element['center'][\"lon\"],\n",
    "        \"geometry\": element.get(\"geometry\", ''),\n",
    "        \"name\": tags.get(\"name\"),\n",
    "        \"source\": tags.get(\"source\"),\n",
    "        \"website\": tags.get(\"website\"),\n",
    "        \"protection_title\": tags.get(\"protection_title\"),\n",
    "        \"leisure\": tags.get(\"leisure\"),\n",
    "        \"type\":'protected area'\n",
    "        \n",
    "    })\n",
    "    \n",
    "    \n",
    "protected_areas_df = pd.DataFrame(protected_areas)\n",
    "\n",
    "\n"
   ]
  },
  {
   "cell_type": "code",
   "execution_count": 288,
   "metadata": {},
   "outputs": [
    {
     "data": {
      "text/html": [
       "<div>\n",
       "<style scoped>\n",
       "    .dataframe tbody tr th:only-of-type {\n",
       "        vertical-align: middle;\n",
       "    }\n",
       "\n",
       "    .dataframe tbody tr th {\n",
       "        vertical-align: top;\n",
       "    }\n",
       "\n",
       "    .dataframe thead th {\n",
       "        text-align: right;\n",
       "    }\n",
       "</style>\n",
       "<table border=\"1\" class=\"dataframe\">\n",
       "  <thead>\n",
       "    <tr style=\"text-align: right;\">\n",
       "      <th></th>\n",
       "      <th>id</th>\n",
       "      <th>latitude</th>\n",
       "      <th>longitude</th>\n",
       "      <th>geometry</th>\n",
       "      <th>name</th>\n",
       "      <th>source</th>\n",
       "      <th>website</th>\n",
       "      <th>protection_title</th>\n",
       "      <th>leisure</th>\n",
       "      <th>type</th>\n",
       "    </tr>\n",
       "  </thead>\n",
       "  <tbody>\n",
       "    <tr>\n",
       "      <th>0</th>\n",
       "      <td>PA_id_4710461</td>\n",
       "      <td>45.884332</td>\n",
       "      <td>10.692263</td>\n",
       "      <td></td>\n",
       "      <td>Rete di riserve Alpi Ledrensi</td>\n",
       "      <td>Provincia autonoma di Trento</td>\n",
       "      <td>https://www.reteriservealpiledrensi.tn.it/</td>\n",
       "      <td>None</td>\n",
       "      <td>None</td>\n",
       "      <td>protected area</td>\n",
       "    </tr>\n",
       "    <tr>\n",
       "      <th>1</th>\n",
       "      <td>PA_id_15595792</td>\n",
       "      <td>46.490497</td>\n",
       "      <td>11.586921</td>\n",
       "      <td></td>\n",
       "      <td>Naturpark Schlern-Rosengarten – Parco naturale...</td>\n",
       "      <td>EEA CDDA (v20)</td>\n",
       "      <td>https://parchi-naturali.provincia.bz.it/parco-...</td>\n",
       "      <td>Parco naturale</td>\n",
       "      <td>nature_reserve</td>\n",
       "      <td>protected area</td>\n",
       "    </tr>\n",
       "    <tr>\n",
       "      <th>2</th>\n",
       "      <td>PA_id_15638582</td>\n",
       "      <td>46.536940</td>\n",
       "      <td>11.668578</td>\n",
       "      <td></td>\n",
       "      <td>Landschaftsschutzgebiet Seiser Alm – Zona di T...</td>\n",
       "      <td>\"Piani paesaggistici: Delimitazioni dei Piani ...</td>\n",
       "      <td>https://seiseralm-schlerngebiet.com/seiseralm/...</td>\n",
       "      <td>Zona di Tutela Paesaggistica</td>\n",
       "      <td>None</td>\n",
       "      <td>protected area</td>\n",
       "    </tr>\n",
       "  </tbody>\n",
       "</table>\n",
       "</div>"
      ],
      "text/plain": [
       "               id   latitude  longitude geometry  \\\n",
       "0   PA_id_4710461  45.884332  10.692263            \n",
       "1  PA_id_15595792  46.490497  11.586921            \n",
       "2  PA_id_15638582  46.536940  11.668578            \n",
       "\n",
       "                                                name  \\\n",
       "0                      Rete di riserve Alpi Ledrensi   \n",
       "1  Naturpark Schlern-Rosengarten – Parco naturale...   \n",
       "2  Landschaftsschutzgebiet Seiser Alm – Zona di T...   \n",
       "\n",
       "                                              source  \\\n",
       "0                       Provincia autonoma di Trento   \n",
       "1                                     EEA CDDA (v20)   \n",
       "2  \"Piani paesaggistici: Delimitazioni dei Piani ...   \n",
       "\n",
       "                                             website  \\\n",
       "0         https://www.reteriservealpiledrensi.tn.it/   \n",
       "1  https://parchi-naturali.provincia.bz.it/parco-...   \n",
       "2  https://seiseralm-schlerngebiet.com/seiseralm/...   \n",
       "\n",
       "               protection_title         leisure            type  \n",
       "0                          None            None  protected area  \n",
       "1                Parco naturale  nature_reserve  protected area  \n",
       "2  Zona di Tutela Paesaggistica            None  protected area  "
      ]
     },
     "execution_count": 288,
     "metadata": {},
     "output_type": "execute_result"
    }
   ],
   "source": [
    "protected_areas_df"
   ]
  },
  {
   "cell_type": "code",
   "execution_count": 297,
   "metadata": {},
   "outputs": [],
   "source": [
    "protected_areas_df.to_csv(\"./processed_data/protected_areas.csv\", index=False, sep=\";\")"
   ]
  },
  {
   "cell_type": "markdown",
   "metadata": {},
   "source": [
    "### Skiing and Winter Sports facility"
   ]
  },
  {
   "cell_type": "code",
   "execution_count": 320,
   "metadata": {},
   "outputs": [],
   "source": [
    "with open('./raw_data/skiing_and_winter_sports.geojson', \"r\") as file:\n",
    "    data = json.load(file)"
   ]
  },
  {
   "cell_type": "code",
   "execution_count": 323,
   "metadata": {},
   "outputs": [],
   "source": [
    "sna = []\n",
    "\n",
    "for element in data[\"elements\"]:\n",
    "    tags = element.get(\"tags\", {})\n",
    "    if element.get(\"type\") == \"way\":\n",
    "        sna.append({\n",
    "            \"id\": \"PA_id_\"+ str(element[\"id\"]),\n",
    "            \"name\": tags.pop(\"name\",''),\n",
    "            \"latitude\": '',\n",
    "            \"longitude\": '',\n",
    "            \"bounds\": element.pop(\"bounds\", ''),\n",
    "            \"geometry\":element.pop(\"geometry\", ''),\n",
    "            \"type\": tags.pop(\"sport\",'skiing')+(':'+tags.get(\"piste:type\",'')) if tags.get(\"piste:type\") else '',\n",
    "            \"details\": tags,\n",
    "            \n",
    "        })\n",
    "    else:\n",
    "        sna.append({\n",
    "            \"id\": \"PA_id_\"+ str(element[\"id\"]),\n",
    "            \"name\": tags.pop(\"name\",''),\n",
    "            \"latitude\": element.pop(\"lat\"),\n",
    "            \"longitude\": element.pop(\"lon\"),\n",
    "            \"bounds\": element.pop(\"bounds\", ''),\n",
    "            \"geometry\":element.pop(\"geometry\", ''),\n",
    "            \"type\": tags.pop(\"sport\",'skiing')+(':'+tags.get(\"piste:type\",'')) if tags.get(\"piste:type\") else '',\n",
    "            \"details\": tags,\n",
    "            \n",
    "        })\n",
    "    \n",
    "    \n",
    "sna_df = pd.DataFrame(sna)\n",
    "\n",
    "\n"
   ]
  },
  {
   "cell_type": "code",
   "execution_count": 296,
   "metadata": {},
   "outputs": [],
   "source": [
    "sna_df.to_csv(\"./processed_data/skiing_and_winter_sports.csv\", index=False, sep=\";\")"
   ]
  },
  {
   "cell_type": "markdown",
   "metadata": {},
   "source": [
    "### Waterfall and Spring"
   ]
  },
  {
   "cell_type": "code",
   "execution_count": 298,
   "metadata": {},
   "outputs": [],
   "source": [
    "with open('./raw_data/waterfall_and_spring.geojson', \"r\") as file:\n",
    "    data = json.load(file)"
   ]
  },
  {
   "cell_type": "code",
   "execution_count": 301,
   "metadata": {},
   "outputs": [],
   "source": [
    "was = []\n",
    "\n",
    "\n",
    "for element in data[\"elements\"]:\n",
    "    tags = element.get(\"tags\", {})\n",
    "    was.append({\n",
    "        \"id\": \"WaS_id_\"+ str(element[\"id\"]),\n",
    "        \"latitude\": element[\"lat\"] if element[\"type\"] == \"node\" else element['center'][\"lat\"],\n",
    "        \"longitude\": element[\"lon\"] if element[\"type\"] == \"node\" else element['center'][\"lon\"],\n",
    "        \"name\": tags.get(\"name\",''),\n",
    "        \"amenity\": tags.get(\"amenity\",''),\n",
    "        \"description\": tags.get(\"description\",''),\n",
    "        \"type\": tags.get(\"natural\",'waterfall'),\n",
    "        \n",
    "        \n",
    "    })\n",
    "    \n",
    "    \n",
    "was_df = pd.DataFrame(was)\n",
    "\n",
    "\n"
   ]
  },
  {
   "cell_type": "code",
   "execution_count": 302,
   "metadata": {},
   "outputs": [
    {
     "data": {
      "text/plain": [
       "(297, 7)"
      ]
     },
     "execution_count": 302,
     "metadata": {},
     "output_type": "execute_result"
    }
   ],
   "source": [
    "was_df.shape"
   ]
  },
  {
   "cell_type": "code",
   "execution_count": 303,
   "metadata": {},
   "outputs": [],
   "source": [
    "was_df.to_csv(\"./processed_data/waterfall_and_spring.csv\", index=False, sep=\";\")"
   ]
  },
  {
   "cell_type": "code",
   "execution_count": null,
   "metadata": {},
   "outputs": [],
   "source": []
  }
 ],
 "metadata": {
  "kernelspec": {
   "display_name": "kge_env",
   "language": "python",
   "name": "python3"
  },
  "language_info": {
   "codemirror_mode": {
    "name": "ipython",
    "version": 3
   },
   "file_extension": ".py",
   "mimetype": "text/x-python",
   "name": "python",
   "nbconvert_exporter": "python",
   "pygments_lexer": "ipython3",
   "version": "3.7.12"
  }
 },
 "nbformat": 4,
 "nbformat_minor": 2
}
