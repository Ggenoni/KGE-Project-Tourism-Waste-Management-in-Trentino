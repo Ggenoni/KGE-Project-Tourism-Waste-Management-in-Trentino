{
 "cells": [
  {
   "cell_type": "markdown",
   "metadata": {},
   "source": [
    "## Import Packages"
   ]
  },
  {
   "cell_type": "code",
   "execution_count": null,
   "metadata": {},
   "outputs": [],
   "source": [
    "import pandas as pd\n",
    "import numpy as np \n",
    "import json\n",
    "import geopandas as gpd\n",
    "from pprint import pprint\n"
   ]
  },
  {
   "cell_type": "markdown",
   "metadata": {},
   "source": [
    "## Process Data"
   ]
  },
  {
   "cell_type": "markdown",
   "metadata": {},
   "source": [
    "### Caves"
   ]
  },
  {
   "cell_type": "code",
   "execution_count": 2,
   "metadata": {},
   "outputs": [],
   "source": [
    "with open('./raw_data/caves.geojson', \"r\") as file:\n",
    "    data = json.load(file)\n",
    "\n",
    "caves = []\n",
    "for element in data[\"elements\"]:\n",
    "    if element[\"type\"] == \"node\" and element.get(\"tags\", {}).get(\"natural\") == \"cave_entrance\":\n",
    "        caves.append({\n",
    "            \"id\": \"cave_id_\"+str(element[\"id\"]),\n",
    "            \"name\": element[\"tags\"].get(\"name\", \"Unnamed\"),\n",
    "            \"latitude\": element[\"lat\"],\n",
    "            \"longitude\": element[\"lon\"],\n",
    "        })\n",
    "\n",
    "caves_df = pd.DataFrame(caves)\n",
    "\n",
    "\n"
   ]
  },
  {
   "cell_type": "code",
   "execution_count": 3,
   "metadata": {},
   "outputs": [
    {
     "data": {
      "text/html": [
       "<div>\n",
       "<style scoped>\n",
       "    .dataframe tbody tr th:only-of-type {\n",
       "        vertical-align: middle;\n",
       "    }\n",
       "\n",
       "    .dataframe tbody tr th {\n",
       "        vertical-align: top;\n",
       "    }\n",
       "\n",
       "    .dataframe thead th {\n",
       "        text-align: right;\n",
       "    }\n",
       "</style>\n",
       "<table border=\"1\" class=\"dataframe\">\n",
       "  <thead>\n",
       "    <tr style=\"text-align: right;\">\n",
       "      <th></th>\n",
       "      <th>id</th>\n",
       "      <th>name</th>\n",
       "      <th>latitude</th>\n",
       "      <th>longitude</th>\n",
       "    </tr>\n",
       "  </thead>\n",
       "  <tbody>\n",
       "    <tr>\n",
       "      <th>0</th>\n",
       "      <td>cave_id_498740308</td>\n",
       "      <td>Bus del nono</td>\n",
       "      <td>45.782194</td>\n",
       "      <td>10.992617</td>\n",
       "    </tr>\n",
       "    <tr>\n",
       "      <th>1</th>\n",
       "      <td>cave_id_508788420</td>\n",
       "      <td>Prigione del Sasso</td>\n",
       "      <td>45.921416</td>\n",
       "      <td>10.888087</td>\n",
       "    </tr>\n",
       "    <tr>\n",
       "      <th>2</th>\n",
       "      <td>cave_id_600025838</td>\n",
       "      <td>Grotta Damiano Chiesa</td>\n",
       "      <td>45.853438</td>\n",
       "      <td>11.036204</td>\n",
       "    </tr>\n",
       "    <tr>\n",
       "      <th>3</th>\n",
       "      <td>cave_id_610991691</td>\n",
       "      <td>Unnamed</td>\n",
       "      <td>45.881934</td>\n",
       "      <td>10.884507</td>\n",
       "    </tr>\n",
       "    <tr>\n",
       "      <th>4</th>\n",
       "      <td>cave_id_641260808</td>\n",
       "      <td>Miniera dell'Aubis</td>\n",
       "      <td>46.111971</td>\n",
       "      <td>11.313204</td>\n",
       "    </tr>\n",
       "    <tr>\n",
       "      <th>...</th>\n",
       "      <td>...</td>\n",
       "      <td>...</td>\n",
       "      <td>...</td>\n",
       "      <td>...</td>\n",
       "    </tr>\n",
       "    <tr>\n",
       "      <th>485</th>\n",
       "      <td>cave_id_12123977435</td>\n",
       "      <td>Piccola grotta</td>\n",
       "      <td>45.829544</td>\n",
       "      <td>10.939140</td>\n",
       "    </tr>\n",
       "    <tr>\n",
       "      <th>486</th>\n",
       "      <td>cave_id_12124039308</td>\n",
       "      <td>Piccola grotta</td>\n",
       "      <td>45.833304</td>\n",
       "      <td>10.933865</td>\n",
       "    </tr>\n",
       "    <tr>\n",
       "      <th>487</th>\n",
       "      <td>cave_id_12176582581</td>\n",
       "      <td>Unnamed</td>\n",
       "      <td>45.816664</td>\n",
       "      <td>10.974215</td>\n",
       "    </tr>\n",
       "    <tr>\n",
       "      <th>488</th>\n",
       "      <td>cave_id_12201099136</td>\n",
       "      <td>Unnamed</td>\n",
       "      <td>45.809969</td>\n",
       "      <td>10.999580</td>\n",
       "    </tr>\n",
       "    <tr>\n",
       "      <th>489</th>\n",
       "      <td>cave_id_12343577692</td>\n",
       "      <td>Unnamed</td>\n",
       "      <td>46.031432</td>\n",
       "      <td>11.558284</td>\n",
       "    </tr>\n",
       "  </tbody>\n",
       "</table>\n",
       "<p>490 rows × 4 columns</p>\n",
       "</div>"
      ],
      "text/plain": [
       "                      id                   name   latitude  longitude\n",
       "0      cave_id_498740308           Bus del nono  45.782194  10.992617\n",
       "1      cave_id_508788420     Prigione del Sasso  45.921416  10.888087\n",
       "2      cave_id_600025838  Grotta Damiano Chiesa  45.853438  11.036204\n",
       "3      cave_id_610991691                Unnamed  45.881934  10.884507\n",
       "4      cave_id_641260808     Miniera dell'Aubis  46.111971  11.313204\n",
       "..                   ...                    ...        ...        ...\n",
       "485  cave_id_12123977435         Piccola grotta  45.829544  10.939140\n",
       "486  cave_id_12124039308         Piccola grotta  45.833304  10.933865\n",
       "487  cave_id_12176582581                Unnamed  45.816664  10.974215\n",
       "488  cave_id_12201099136                Unnamed  45.809969  10.999580\n",
       "489  cave_id_12343577692                Unnamed  46.031432  11.558284\n",
       "\n",
       "[490 rows x 4 columns]"
      ]
     },
     "execution_count": 3,
     "metadata": {},
     "output_type": "execute_result"
    }
   ],
   "source": [
    "caves_df"
   ]
  },
  {
   "cell_type": "code",
   "execution_count": 4,
   "metadata": {},
   "outputs": [
    {
     "data": {
      "text/plain": [
       "id           490\n",
       "name         242\n",
       "latitude     490\n",
       "longitude    490\n",
       "dtype: int64"
      ]
     },
     "execution_count": 4,
     "metadata": {},
     "output_type": "execute_result"
    }
   ],
   "source": [
    "caves_df.nunique()"
   ]
  },
  {
   "cell_type": "code",
   "execution_count": 5,
   "metadata": {},
   "outputs": [
    {
     "data": {
      "text/plain": [
       "id           0\n",
       "name         0\n",
       "latitude     0\n",
       "longitude    0\n",
       "dtype: int64"
      ]
     },
     "execution_count": 5,
     "metadata": {},
     "output_type": "execute_result"
    }
   ],
   "source": [
    "caves_df.isna().sum()"
   ]
  },
  {
   "cell_type": "code",
   "execution_count": null,
   "metadata": {},
   "outputs": [],
   "source": [
    "caves_df.to_csv(\"./processed_data/caves.csv\", index=False)"
   ]
  },
  {
   "cell_type": "markdown",
   "metadata": {},
   "source": [
    "### Cultural Attractions"
   ]
  },
  {
   "cell_type": "markdown",
   "metadata": {},
   "source": [
    "These include\n",
    "* artworks\n",
    "* memorials\n",
    "* Galleries and Museums\n",
    "* Castles"
   ]
  },
  {
   "cell_type": "code",
   "execution_count": 10,
   "metadata": {},
   "outputs": [],
   "source": [
    "with open('./raw_data/cultural_attractions.geojson', \"r\") as file:\n",
    "    data = json.load(file)"
   ]
  },
  {
   "cell_type": "code",
   "execution_count": 11,
   "metadata": {},
   "outputs": [],
   "source": [
    "\n",
    "artworks = []\n",
    "memorials = []\n",
    "gallery_and_museum = []\n",
    "\n",
    "\n",
    "\n",
    "for element in data[\"elements\"]:\n",
    "    tags = element.get(\"tags\", {})\n",
    "    if tags.get(\"tourism\") == \"artwork\":\n",
    "        artworks.append({\n",
    "            \"id\": \"artwork_id_\"+ str(element[\"id\"]),\n",
    "            \"name\": tags.get(\"name\", \"\"),\n",
    "            \"latitude\": element[\"lat\"],\n",
    "            \"longitude\": element[\"lon\"],\n",
    "            \"artist_name\": tags.get(\"artist_name\",\"\"),\n",
    "            \"artwork_type\": tags.get(\"artwork_type\",\"\"),\n",
    "            \"description\": (tags.get(\"description\") or \"\") + (tags.get(\"inscription\") or \"\"),\n",
    "            \"website\": tags.get(\"source:website\",\"\"),\n",
    "        })\n",
    "    elif tags.get(\"historic\") == \"memorial\" or tags.get(\"historic\") == \"monument\" or tags.get(\"historic\") == \"castle\":\n",
    "        memorials.append({\n",
    "            \"id\": (\"memorial_id_\" if tags.get(\"historic\")==\"memorial\" else \"monument_id_\")+ str(element[\"id\"]),\n",
    "            \"name\": tags.get(\"name\", \"Unnamed\"),\n",
    "            \"latitude\": element[\"lat\"],\n",
    "            \"longitude\": element[\"lon\"],\n",
    "            \"memorial_type\": tags.get(\"memorial\",\"\"),\n",
    "            \"historic_type\": tags.get(\"historic\",\"\"),\n",
    "            \"inscription\": tags.get(\"inscription\",\"\"),\n",
    "            \n",
    "        })\n",
    "    elif tags.get(\"tourism\") == \"gallery\" or tags.get(\"tourism\") == \"museum\":\n",
    "        gallery_and_museum.append({\n",
    "            \"id\": (\"gallery_id_\" if tags.get(\"tourism\")==\"gallery\" else \"museum_id_\")+ str(element[\"id\"]),\n",
    "            \"name\": tags.get(\"name\", \"Unnamed\"),\n",
    "            \"latitude\": element[\"lat\"],\n",
    "            \"longitude\": element[\"lon\"],\n",
    "            \"website\": tags.get(\"contact:website\",''),\n",
    "            \"type\": tags.get(\"tourism\",''),\n",
    "            \"street\": tags.get('addr:street', ''),\n",
    "            \"city\": tags.get('addr:city', ''),\n",
    "            \"postcode\": tags.get('addr:postcode', ''),\n",
    "            \"housenumber\": tags.get('addr:housenumber', '')\n",
    "        })\n",
    "\n",
    "# Convert lists to DataFrames\n",
    "artworks_df = pd.DataFrame(artworks)\n",
    "memorials_df = pd.DataFrame(memorials)\n",
    "gallery_and_museum_df = pd.DataFrame(gallery_and_museum)\n",
    "\n",
    "\n"
   ]
  },
  {
   "cell_type": "code",
   "execution_count": 12,
   "metadata": {},
   "outputs": [
    {
     "data": {
      "text/plain": [
       "994"
      ]
     },
     "execution_count": 12,
     "metadata": {},
     "output_type": "execute_result"
    }
   ],
   "source": [
    "len(artworks_df)+len(memorials_df)+len(gallery_and_museum_df)"
   ]
  },
  {
   "cell_type": "code",
   "execution_count": 13,
   "metadata": {},
   "outputs": [
    {
     "data": {
      "text/plain": [
       "id             0\n",
       "name           0\n",
       "latitude       0\n",
       "longitude      0\n",
       "website        0\n",
       "type           0\n",
       "street         0\n",
       "city           0\n",
       "postcode       0\n",
       "housenumber    0\n",
       "dtype: int64"
      ]
     },
     "execution_count": 13,
     "metadata": {},
     "output_type": "execute_result"
    }
   ],
   "source": [
    "gallery_and_museum_df.isna().sum()"
   ]
  },
  {
   "cell_type": "code",
   "execution_count": 14,
   "metadata": {},
   "outputs": [],
   "source": [
    "artworks_df.to_csv(\"./processed_data/artworks.csv\", index=False)\n",
    "memorials_df.to_csv(\"./processed_data/memorials.csv\", index=False)\n",
    "gallery_and_museum_df.to_csv(\"./processed_data/gallery_and_museums.csv\", index=False)"
   ]
  },
  {
   "cell_type": "markdown",
   "metadata": {},
   "source": [
    "### Food and Drink Establishments"
   ]
  },
  {
   "cell_type": "code",
   "execution_count": 6,
   "metadata": {},
   "outputs": [],
   "source": [
    "with open('./raw_data/food_and_drink_establishments.geojson', \"r\") as file:\n",
    "    data = json.load(file)\n",
    "\n",
    "\n",
    "food_and_drink_establishments = []\n",
    "\n",
    "\n",
    "for element in data[\"elements\"]:\n",
    "    tags = element.get(\"tags\", {})\n",
    "    food_and_drink_establishments.append({\n",
    "        \"id\": \"FnD_id_\"+ str(element[\"id\"]),\n",
    "        \"latitude\": element[\"lat\"],\n",
    "        \"longitude\": element[\"lon\"],\n",
    "        \"name\": tags.get(\"name\", \"\"),\n",
    "        \"cuisine\": tags.get(\"cuisine\",''),\n",
    "        \"operator\": tags.get(\"operator\",''),\n",
    "        \"street\": tags.get('addr:street', ''),\n",
    "        \"city\": tags.get('addr:city', ''),\n",
    "        \"postcode\": tags.get('addr:postcode', ''),\n",
    "        \"housenumber\": tags.get('addr:housenumber', ''),\n",
    "        \"website\": (tags.get(\"contact:website\",\"\") if tags.get(\"contact:website\",\"\") else tags.get(\"website\",\"\")),\n",
    "        \"phone\": (tags.get(\"contact:phone\",\"\") if tags.get(\"contact:phone\",\"\") else tags.get(\"phone\",\"\")),\n",
    "        \"email\": (tags.get(\"contact:email\",\"\") if tags.get(\"contact:email\",\"\") else tags.get(\"email\",\"\")),\n",
    "        \n",
    "    })\n",
    "    \n",
    "    \n",
    "food_and_drink_establishments_df = pd.DataFrame(food_and_drink_establishments)\n",
    "\n",
    "\n"
   ]
  },
  {
   "cell_type": "code",
   "execution_count": 35,
   "metadata": {},
   "outputs": [
    {
     "data": {
      "text/plain": [
       "(2293, 13)"
      ]
     },
     "execution_count": 35,
     "metadata": {},
     "output_type": "execute_result"
    }
   ],
   "source": [
    "food_and_drink_establishments_df.shape"
   ]
  },
  {
   "cell_type": "code",
   "execution_count": 184,
   "metadata": {},
   "outputs": [
    {
     "data": {
      "text/html": [
       "<div>\n",
       "<style scoped>\n",
       "    .dataframe tbody tr th:only-of-type {\n",
       "        vertical-align: middle;\n",
       "    }\n",
       "\n",
       "    .dataframe tbody tr th {\n",
       "        vertical-align: top;\n",
       "    }\n",
       "\n",
       "    .dataframe thead th {\n",
       "        text-align: right;\n",
       "    }\n",
       "</style>\n",
       "<table border=\"1\" class=\"dataframe\">\n",
       "  <thead>\n",
       "    <tr style=\"text-align: right;\">\n",
       "      <th></th>\n",
       "      <th>id</th>\n",
       "      <th>latitude</th>\n",
       "      <th>longitude</th>\n",
       "      <th>name</th>\n",
       "      <th>cuisine</th>\n",
       "      <th>operator</th>\n",
       "      <th>street</th>\n",
       "      <th>city</th>\n",
       "      <th>postcode</th>\n",
       "      <th>housenumber</th>\n",
       "      <th>website</th>\n",
       "      <th>phone</th>\n",
       "      <th>email</th>\n",
       "    </tr>\n",
       "  </thead>\n",
       "  <tbody>\n",
       "    <tr>\n",
       "      <th>0</th>\n",
       "      <td>FnD_id_247887464</td>\n",
       "      <td>46.071826</td>\n",
       "      <td>11.140469</td>\n",
       "      <td>Dal Boccia</td>\n",
       "      <td>pasta;pizza;regional;seafood</td>\n",
       "      <td></td>\n",
       "      <td>Via degli Alberti Poja</td>\n",
       "      <td></td>\n",
       "      <td>38121-38123</td>\n",
       "      <td>13</td>\n",
       "      <td></td>\n",
       "      <td>+39 0461 437903</td>\n",
       "      <td></td>\n",
       "    </tr>\n",
       "    <tr>\n",
       "      <th>1</th>\n",
       "      <td>FnD_id_258441546</td>\n",
       "      <td>45.917165</td>\n",
       "      <td>11.053101</td>\n",
       "      <td>Pizzeria \"Le palme\"</td>\n",
       "      <td>pizza</td>\n",
       "      <td></td>\n",
       "      <td>Via Panizza</td>\n",
       "      <td></td>\n",
       "      <td></td>\n",
       "      <td>56</td>\n",
       "      <td></td>\n",
       "      <td>+39 0464 411201</td>\n",
       "      <td></td>\n",
       "    </tr>\n",
       "    <tr>\n",
       "      <th>2</th>\n",
       "      <td>FnD_id_259973562</td>\n",
       "      <td>46.109610</td>\n",
       "      <td>11.140262</td>\n",
       "      <td>Il bosco incantato</td>\n",
       "      <td></td>\n",
       "      <td></td>\n",
       "      <td>Via del Lavaron</td>\n",
       "      <td>Trento</td>\n",
       "      <td></td>\n",
       "      <td>2</td>\n",
       "      <td></td>\n",
       "      <td>+39 0461 960826</td>\n",
       "      <td></td>\n",
       "    </tr>\n",
       "    <tr>\n",
       "      <th>3</th>\n",
       "      <td>FnD_id_260573164</td>\n",
       "      <td>46.273027</td>\n",
       "      <td>11.416570</td>\n",
       "      <td>Bar Sport</td>\n",
       "      <td></td>\n",
       "      <td></td>\n",
       "      <td></td>\n",
       "      <td></td>\n",
       "      <td></td>\n",
       "      <td></td>\n",
       "      <td></td>\n",
       "      <td></td>\n",
       "      <td></td>\n",
       "    </tr>\n",
       "    <tr>\n",
       "      <th>4</th>\n",
       "      <td>FnD_id_261081650</td>\n",
       "      <td>46.280372</td>\n",
       "      <td>11.434969</td>\n",
       "      <td>Bar La Torre</td>\n",
       "      <td></td>\n",
       "      <td></td>\n",
       "      <td></td>\n",
       "      <td></td>\n",
       "      <td></td>\n",
       "      <td></td>\n",
       "      <td></td>\n",
       "      <td></td>\n",
       "      <td></td>\n",
       "    </tr>\n",
       "    <tr>\n",
       "      <th>...</th>\n",
       "      <td>...</td>\n",
       "      <td>...</td>\n",
       "      <td>...</td>\n",
       "      <td>...</td>\n",
       "      <td>...</td>\n",
       "      <td>...</td>\n",
       "      <td>...</td>\n",
       "      <td>...</td>\n",
       "      <td>...</td>\n",
       "      <td>...</td>\n",
       "      <td>...</td>\n",
       "      <td>...</td>\n",
       "      <td>...</td>\n",
       "    </tr>\n",
       "    <tr>\n",
       "      <th>2288</th>\n",
       "      <td>FnD_id_12193137181</td>\n",
       "      <td>45.886553</td>\n",
       "      <td>10.840359</td>\n",
       "      <td>Fuori Stile</td>\n",
       "      <td></td>\n",
       "      <td></td>\n",
       "      <td></td>\n",
       "      <td></td>\n",
       "      <td></td>\n",
       "      <td></td>\n",
       "      <td></td>\n",
       "      <td></td>\n",
       "      <td></td>\n",
       "    </tr>\n",
       "    <tr>\n",
       "      <th>2289</th>\n",
       "      <td>FnD_id_12193149487</td>\n",
       "      <td>45.886585</td>\n",
       "      <td>10.840136</td>\n",
       "      <td>Basil Pizza alla Pala</td>\n",
       "      <td>pizza</td>\n",
       "      <td></td>\n",
       "      <td>Viale Dante Alighieri</td>\n",
       "      <td></td>\n",
       "      <td></td>\n",
       "      <td>71</td>\n",
       "      <td></td>\n",
       "      <td></td>\n",
       "      <td></td>\n",
       "    </tr>\n",
       "    <tr>\n",
       "      <th>2290</th>\n",
       "      <td>FnD_id_12265635488</td>\n",
       "      <td>46.443751</td>\n",
       "      <td>11.141733</td>\n",
       "      <td>Hotel Lago Smeraldo</td>\n",
       "      <td></td>\n",
       "      <td></td>\n",
       "      <td>Via Lago Smeraldo</td>\n",
       "      <td>Fondo</td>\n",
       "      <td>38013</td>\n",
       "      <td>12</td>\n",
       "      <td>https://www.hotellagosmeraldo.it/</td>\n",
       "      <td>+39 0463 831104</td>\n",
       "      <td>info@hotellagosmeraldo.it</td>\n",
       "    </tr>\n",
       "    <tr>\n",
       "      <th>2291</th>\n",
       "      <td>FnD_id_12279573100</td>\n",
       "      <td>46.296321</td>\n",
       "      <td>10.688133</td>\n",
       "      <td>Osteria Tipica Trentina</td>\n",
       "      <td></td>\n",
       "      <td></td>\n",
       "      <td></td>\n",
       "      <td></td>\n",
       "      <td></td>\n",
       "      <td></td>\n",
       "      <td></td>\n",
       "      <td></td>\n",
       "      <td></td>\n",
       "    </tr>\n",
       "    <tr>\n",
       "      <th>2292</th>\n",
       "      <td>FnD_id_12298881620</td>\n",
       "      <td>45.916812</td>\n",
       "      <td>11.060019</td>\n",
       "      <td>ristorante Silvana</td>\n",
       "      <td>pizza;italian;coffee_shop</td>\n",
       "      <td></td>\n",
       "      <td></td>\n",
       "      <td></td>\n",
       "      <td></td>\n",
       "      <td></td>\n",
       "      <td></td>\n",
       "      <td></td>\n",
       "      <td></td>\n",
       "    </tr>\n",
       "  </tbody>\n",
       "</table>\n",
       "<p>2293 rows × 13 columns</p>\n",
       "</div>"
      ],
      "text/plain": [
       "                      id   latitude  longitude                     name  \\\n",
       "0       FnD_id_247887464  46.071826  11.140469               Dal Boccia   \n",
       "1       FnD_id_258441546  45.917165  11.053101      Pizzeria \"Le palme\"   \n",
       "2       FnD_id_259973562  46.109610  11.140262       Il bosco incantato   \n",
       "3       FnD_id_260573164  46.273027  11.416570                Bar Sport   \n",
       "4       FnD_id_261081650  46.280372  11.434969             Bar La Torre   \n",
       "...                  ...        ...        ...                      ...   \n",
       "2288  FnD_id_12193137181  45.886553  10.840359              Fuori Stile   \n",
       "2289  FnD_id_12193149487  45.886585  10.840136    Basil Pizza alla Pala   \n",
       "2290  FnD_id_12265635488  46.443751  11.141733      Hotel Lago Smeraldo   \n",
       "2291  FnD_id_12279573100  46.296321  10.688133  Osteria Tipica Trentina   \n",
       "2292  FnD_id_12298881620  45.916812  11.060019       ristorante Silvana   \n",
       "\n",
       "                           cuisine operator                  street    city  \\\n",
       "0     pasta;pizza;regional;seafood           Via degli Alberti Poja           \n",
       "1                            pizza                      Via Panizza           \n",
       "2                                                   Via del Lavaron  Trento   \n",
       "3                                                                             \n",
       "4                                                                             \n",
       "...                            ...      ...                     ...     ...   \n",
       "2288                                                                          \n",
       "2289                         pizza            Viale Dante Alighieri           \n",
       "2290                                              Via Lago Smeraldo   Fondo   \n",
       "2291                                                                          \n",
       "2292     pizza;italian;coffee_shop                                            \n",
       "\n",
       "         postcode housenumber                            website  \\\n",
       "0     38121-38123          13                                      \n",
       "1                          56                                      \n",
       "2                           2                                      \n",
       "3                                                                  \n",
       "4                                                                  \n",
       "...           ...         ...                                ...   \n",
       "2288                                                               \n",
       "2289                       71                                      \n",
       "2290        38013          12  https://www.hotellagosmeraldo.it/   \n",
       "2291                                                               \n",
       "2292                                                               \n",
       "\n",
       "                phone                      email  \n",
       "0     +39 0461 437903                             \n",
       "1     +39 0464 411201                             \n",
       "2     +39 0461 960826                             \n",
       "3                                                 \n",
       "4                                                 \n",
       "...               ...                        ...  \n",
       "2288                                              \n",
       "2289                                              \n",
       "2290  +39 0463 831104  info@hotellagosmeraldo.it  \n",
       "2291                                              \n",
       "2292                                              \n",
       "\n",
       "[2293 rows x 13 columns]"
      ]
     },
     "execution_count": 184,
     "metadata": {},
     "output_type": "execute_result"
    }
   ],
   "source": [
    "food_and_drink_establishments_df"
   ]
  },
  {
   "cell_type": "code",
   "execution_count": null,
   "metadata": {},
   "outputs": [],
   "source": [
    "food_and_drink_establishments_df.to_csv(\"./processed_data/food_and_drink_establishments.csv\", index=False)"
   ]
  },
  {
   "cell_type": "markdown",
   "metadata": {},
   "source": [
    "### Holiday Apartments and Houses"
   ]
  },
  {
   "cell_type": "code",
   "execution_count": null,
   "metadata": {},
   "outputs": [],
   "source": [
    "with open('./raw_data/holiday_apartments_and_houses.geojson', \"r\") as file:\n",
    "    data = json.load(file)\n",
    "\n",
    "\n",
    "holiday_apartments_and_houses = []\n",
    "\n",
    "\n",
    "for element in data[\"elements\"]:\n",
    "    tags = element.get(\"tags\", {})\n",
    "    holiday_apartments_and_houses.append({\n",
    "        \"id\": \"HAmH_id_\"+ str(element[\"id\"]),\n",
    "        \"latitude\": element[\"lat\"],\n",
    "        \"longitude\": element[\"lon\"],\n",
    "        \"name\": tags.get(\"name\", \"\"),\n",
    "        \"tourism_type\": tags.get(\"tourism\", \"\"),\n",
    "        \"street\": tags.get('addr:street', ''),\n",
    "        \"city\": tags.get('addr:city', ''),\n",
    "        \"postcode\": tags.get('addr:postcode', ''),\n",
    "        \"housenumber\": tags.get('addr:housenumber', ''),\n",
    "        \"website\": (tags.get(\"contact:website\",\"\") if tags.get(\"contact:website\",\"\") else tags.get(\"website\",\"\")),\n",
    "        \"phone\": (tags.get(\"contact:phone\",\"\") if tags.get(\"contact:phone\",\"\") else tags.get(\"phone\",\"\")),\n",
    "        \"email\": (tags.get(\"contact:email\",\"\") if tags.get(\"contact:email\",\"\") else tags.get(\"email\",\"\")),\n",
    "        \n",
    "    })\n",
    "    \n",
    "    \n",
    "holiday_apartments_and_houses_df = pd.DataFrame(holiday_apartments_and_houses)\n",
    "\n",
    "\n"
   ]
  },
  {
   "cell_type": "code",
   "execution_count": 42,
   "metadata": {},
   "outputs": [
    {
     "data": {
      "text/plain": [
       "(244, 12)"
      ]
     },
     "execution_count": 42,
     "metadata": {},
     "output_type": "execute_result"
    }
   ],
   "source": [
    "holiday_apartments_and_houses_df.shape"
   ]
  },
  {
   "cell_type": "code",
   "execution_count": null,
   "metadata": {},
   "outputs": [],
   "source": [
    "holiday_apartments_and_houses_df.to_csv(\"./processed_data/holiday_apartments_and_houses.csv\", index=False)\n"
   ]
  },
  {
   "cell_type": "markdown",
   "metadata": {},
   "source": [
    "### Hotels and Accomodation"
   ]
  },
  {
   "cell_type": "code",
   "execution_count": null,
   "metadata": {},
   "outputs": [],
   "source": [
    "with open('./raw_data/hotels_and_accommodation.geojson', \"r\") as file:\n",
    "    data = json.load(file)\n"
   ]
  },
  {
   "cell_type": "code",
   "execution_count": 39,
   "metadata": {},
   "outputs": [
    {
     "data": {
      "text/plain": [
       "{'access',\n",
       " 'addr:city',\n",
       " 'addr:country',\n",
       " 'addr:district',\n",
       " 'addr:full',\n",
       " 'addr:hamlet',\n",
       " 'addr:housename',\n",
       " 'addr:housenumber',\n",
       " 'addr:place',\n",
       " 'addr:postcode',\n",
       " 'addr:province',\n",
       " 'addr:street',\n",
       " 'addr:suburb',\n",
       " 'addr:unit',\n",
       " 'agritourism',\n",
       " 'air_conditioning',\n",
       " 'alt_name',\n",
       " 'amenity',\n",
       " 'backcountry',\n",
       " 'bar',\n",
       " 'beds',\n",
       " 'brand',\n",
       " 'brand:wikidata',\n",
       " 'breakfast',\n",
       " 'building',\n",
       " 'building:levels',\n",
       " 'cafe',\n",
       " 'capacity',\n",
       " 'capacity:caravans',\n",
       " 'caravans',\n",
       " 'charge',\n",
       " 'check_date',\n",
       " 'check_date:currency:XBT',\n",
       " 'check_date:internet_access',\n",
       " 'contact:email',\n",
       " 'contact:facebook',\n",
       " 'contact:fax',\n",
       " 'contact:instagram',\n",
       " 'contact:mobile',\n",
       " 'contact:name',\n",
       " 'contact:phone',\n",
       " 'contact:tripadvisor',\n",
       " 'contact:website',\n",
       " 'craft',\n",
       " 'created_by',\n",
       " 'cuisine',\n",
       " 'currency:XBT',\n",
       " 'delivery',\n",
       " 'delivery:description',\n",
       " 'description',\n",
       " 'description:it',\n",
       " 'designation',\n",
       " 'diet:gluten_free',\n",
       " 'diet:vegan',\n",
       " 'diet:vegetarian',\n",
       " 'disabled',\n",
       " 'drinking_water',\n",
       " 'ele',\n",
       " 'ele:ellipsoid',\n",
       " 'email',\n",
       " 'entrance',\n",
       " 'entrance:primary',\n",
       " 'entrance:type',\n",
       " 'facebook',\n",
       " 'fax',\n",
       " 'fee',\n",
       " 'fixme',\n",
       " 'group_only',\n",
       " 'guest_house',\n",
       " 'historic',\n",
       " 'image',\n",
       " 'indoor_seating',\n",
       " 'internet_access',\n",
       " 'internet_access:fee',\n",
       " 'lastcheck',\n",
       " 'layer',\n",
       " 'level',\n",
       " 'mobile',\n",
       " 'name',\n",
       " 'name:de',\n",
       " 'name:en',\n",
       " 'name:it',\n",
       " 'name:pl',\n",
       " 'note',\n",
       " 'numberplaque',\n",
       " 'old_name',\n",
       " 'opening_hours',\n",
       " 'operator',\n",
       " 'organic',\n",
       " 'outdoor_seating',\n",
       " 'parking',\n",
       " 'payment:bancomat',\n",
       " 'payment:cash',\n",
       " 'payment:coins',\n",
       " 'payment:credit_cards',\n",
       " 'payment:cryptocurrencies',\n",
       " 'payment:dash',\n",
       " 'payment:debit_cards',\n",
       " 'payment:electronic_purses',\n",
       " 'payment:ethereum',\n",
       " 'payment:lightning',\n",
       " 'payment:lightning_contactless',\n",
       " 'payment:mastercard',\n",
       " 'payment:meal_voucher',\n",
       " 'payment:onchain',\n",
       " 'phone',\n",
       " 'phone2',\n",
       " 'phone:mobile',\n",
       " 'phone_1',\n",
       " 'power_supply',\n",
       " 'ref:vatin',\n",
       " 'reservation',\n",
       " 'restaurant',\n",
       " 'rooms',\n",
       " 'sanitary_dump_station',\n",
       " 'service',\n",
       " 'service:bicycle:parking',\n",
       " 'shop',\n",
       " 'shower',\n",
       " 'smoking',\n",
       " 'solarium',\n",
       " 'source',\n",
       " 'stars',\n",
       " 'start_date',\n",
       " 'surface',\n",
       " 'swimming_pool',\n",
       " 'takeaway',\n",
       " 'takeaway:description',\n",
       " 'tents',\n",
       " 'toilets',\n",
       " 'tourism',\n",
       " 'water_point',\n",
       " 'water_supply',\n",
       " 'website',\n",
       " 'website_2',\n",
       " 'wheelchair',\n",
       " 'wheelchair:description',\n",
       " 'wikidata',\n",
       " 'wikipedia',\n",
       " 'winter_room'}"
      ]
     },
     "execution_count": 39,
     "metadata": {},
     "output_type": "execute_result"
    }
   ],
   "source": [
    "tag_items = {tag for element in data[\"elements\"] for tag in element.get(\"tags\", {})}\n",
    "\n",
    "tag_items"
   ]
  },
  {
   "cell_type": "code",
   "execution_count": null,
   "metadata": {},
   "outputs": [],
   "source": [
    "\n",
    "\n",
    "hotels_and_accommodation = []\n",
    "\n",
    "\n",
    "for element in data[\"elements\"]:\n",
    "    tags = element.get(\"tags\", {})\n",
    "    hotels_and_accommodation.append({\n",
    "        \"id\": \"HnA_id_\"+ str(element[\"id\"]),\n",
    "        \"latitude\": element[\"lat\"],\n",
    "        \"longitude\": element[\"lon\"],\n",
    "        \"name\": tags.get(\"name\", \"\"),\n",
    "        \"tourism_type\": tags.get(\"tourism\", \"\"),\n",
    "        \"street\": tags.get('addr:street', ''),\n",
    "        \"city\": tags.get('addr:city', ''),\n",
    "        \"postcode\": tags.get('addr:postcode', ''),\n",
    "        \"housenumber\": tags.get('addr:housenumber', ''),\n",
    "        \"cuisine\": tags.get(\"cuisine\",''),\n",
    "        \"description\": tags.get(\"description\",''),\n",
    "        \"operator\": tags.get(\"operator\",''),\n",
    "        \"website\": (tags.get(\"contact:website\",\"\") if tags.get(\"contact:website\",\"\") else tags.get(\"website\",\"\")),\n",
    "        \"phone\": (tags.get(\"contact:phone\",\"\") if tags.get(\"contact:phone\",\"\") else tags.get(\"phone\",\"\")),\n",
    "        \"email\": (tags.get(\"contact:email\",\"\") if tags.get(\"contact:email\",\"\") else tags.get(\"email\",\"\")),\n",
    "        \n",
    "    })\n",
    "    \n",
    "    \n",
    "hotels_and_accommodation_df = pd.DataFrame(hotels_and_accommodation)\n",
    "\n",
    "\n"
   ]
  },
  {
   "cell_type": "code",
   "execution_count": 54,
   "metadata": {},
   "outputs": [
    {
     "data": {
      "text/plain": [
       "(759, 15)"
      ]
     },
     "execution_count": 54,
     "metadata": {},
     "output_type": "execute_result"
    }
   ],
   "source": [
    "hotels_and_accommodation_df.shape"
   ]
  },
  {
   "cell_type": "code",
   "execution_count": null,
   "metadata": {},
   "outputs": [],
   "source": [
    "hotels_and_accommodation_df.to_csv(\"./processed_data/hotels_and_accommodation.csv\", index=False)\n"
   ]
  },
  {
   "cell_type": "markdown",
   "metadata": {},
   "source": [
    "### Lakes and Rivers"
   ]
  },
  {
   "cell_type": "code",
   "execution_count": 60,
   "metadata": {},
   "outputs": [],
   "source": [
    "with open('./raw_data/lakes_and_rivers.geojson', \"r\") as file:\n",
    "    data = json.load(file)\n"
   ]
  },
  {
   "cell_type": "code",
   "execution_count": 61,
   "metadata": {},
   "outputs": [],
   "source": [
    "tag_items = {tag for element in data[\"elements\"] for tag in element.get(\"tags\", {})}\n"
   ]
  },
  {
   "cell_type": "code",
   "execution_count": 62,
   "metadata": {},
   "outputs": [
    {
     "data": {
      "text/plain": [
       "{'alt_name',\n",
       " 'alt_name:de',\n",
       " 'altitude',\n",
       " 'area',\n",
       " 'arpav_codice_bacino',\n",
       " 'arpav_codice_sottobacino',\n",
       " 'boat',\n",
       " 'covered',\n",
       " 'depth',\n",
       " 'description',\n",
       " 'ele',\n",
       " 'elevation',\n",
       " 'fishing',\n",
       " 'intermittent',\n",
       " 'landuse',\n",
       " 'layer',\n",
       " 'loc_name',\n",
       " 'motorboat',\n",
       " 'name',\n",
       " 'name:af',\n",
       " 'name:als',\n",
       " 'name:ar',\n",
       " 'name:be',\n",
       " 'name:bg',\n",
       " 'name:ca',\n",
       " 'name:cs',\n",
       " 'name:cv',\n",
       " 'name:cy',\n",
       " 'name:da',\n",
       " 'name:de',\n",
       " 'name:el',\n",
       " 'name:en',\n",
       " 'name:eo',\n",
       " 'name:es',\n",
       " 'name:et',\n",
       " 'name:eu',\n",
       " 'name:fa',\n",
       " 'name:fi',\n",
       " 'name:fr',\n",
       " 'name:gl',\n",
       " 'name:grc',\n",
       " 'name:he',\n",
       " 'name:hr',\n",
       " 'name:hu',\n",
       " 'name:id',\n",
       " 'name:is',\n",
       " 'name:it',\n",
       " 'name:ja',\n",
       " 'name:ka',\n",
       " 'name:ko',\n",
       " 'name:la',\n",
       " 'name:lb',\n",
       " 'name:lld',\n",
       " 'name:lmo',\n",
       " 'name:lt',\n",
       " 'name:lv',\n",
       " 'name:mk',\n",
       " 'name:ms',\n",
       " 'name:nl',\n",
       " 'name:nn',\n",
       " 'name:no',\n",
       " 'name:pms',\n",
       " 'name:pt',\n",
       " 'name:rm',\n",
       " 'name:ro',\n",
       " 'name:ru',\n",
       " 'name:scn',\n",
       " 'name:sh',\n",
       " 'name:sk',\n",
       " 'name:sl',\n",
       " 'name:sr',\n",
       " 'name:sv',\n",
       " 'name:th',\n",
       " 'name:tr',\n",
       " 'name:uk',\n",
       " 'name:vec',\n",
       " 'name:vi',\n",
       " 'name:vls',\n",
       " 'name:xmf',\n",
       " 'name:zh',\n",
       " 'natural',\n",
       " 'note',\n",
       " 'old_name:de',\n",
       " 'ref:pat',\n",
       " 'ref:pat:cat',\n",
       " 'ref:pat:id',\n",
       " 'reg_name',\n",
       " 'salt',\n",
       " 'ship',\n",
       " 'source',\n",
       " 'swimming',\n",
       " 'tidal',\n",
       " 'tourism',\n",
       " 'tributary_of',\n",
       " 'tunnel',\n",
       " 'type',\n",
       " 'water',\n",
       " 'waterway',\n",
       " 'website',\n",
       " 'wheelchair',\n",
       " 'whitewater:section_grade',\n",
       " 'whitewater:section_name',\n",
       " 'width',\n",
       " 'wikidata',\n",
       " 'wikimedia_commons',\n",
       " 'wikipedia',\n",
       " 'windsurfing'}"
      ]
     },
     "execution_count": 62,
     "metadata": {},
     "output_type": "execute_result"
    }
   ],
   "source": [
    "tag_items"
   ]
  },
  {
   "cell_type": "code",
   "execution_count": 64,
   "metadata": {},
   "outputs": [],
   "source": [
    "# Initialize lists to hold lake and river data\n",
    "lakes = []\n",
    "rivers = []\n",
    "\n",
    "# Process each element in the JSON data\n",
    "for element in data[\"elements\"]:\n",
    "    tags = element.get(\"tags\", {})\n",
    "    \n",
    "    # Extract lakes based on 'natural=water' and 'water=lake'\n",
    "    if tags.get(\"natural\") == \"water\" and tags.get(\"water\") == \"lake\":\n",
    "        if element[\"type\"] == \"relation\":\n",
    "            lakes.append({\n",
    "                \"id\": element[\"id\"],\n",
    "                \"name\": tags.get(\"name\", \"Unnamed\"),\n",
    "                \"latitude\": element.get(\"center\", {}).get(\"lat\") if element[\"type\"] == \"relation\" else element.get(\"lat\"),\n",
    "                \"longitude\": element.get(\"center\", {}).get(\"lon\") if element[\"type\"] == \"relation\" else element.get(\"lon\"),\n",
    "                \"bounds\": element.get(\"bounds\", ''),\n",
    "                \"geometry\":element.get(\"members\", {})[0].get(\"geometry\", ''),\n",
    "            })\n",
    "    \n",
    "    # Extract rivers based on 'waterway=river'\n",
    "    elif tags.get(\"waterway\") == \"river\":\n",
    "        rivers.append({\n",
    "            \"id\": element[\"id\"],\n",
    "            \"name\": tags.get(\"name\", \"Unnamed\"),\n",
    "            \"latitude\": element.get(\"center\", {}).get(\"lat\") ,\n",
    "            \"longitude\": element.get(\"center\", {}).get(\"lon\"),\n",
    "            \"bounds\": element.get(\"bounds\", ''),\n",
    "            \"geometry\":element.get(\"geometry\", ''),\n",
    "        })\n",
    "\n",
    "# Create DataFrames for lakes and rivers\n",
    "lakes_df = pd.DataFrame(lakes)\n",
    "rivers_df = pd.DataFrame(rivers)\n",
    "\n",
    "\n"
   ]
  },
  {
   "cell_type": "code",
   "execution_count": 65,
   "metadata": {},
   "outputs": [
    {
     "data": {
      "text/plain": [
       "(138, 6)"
      ]
     },
     "execution_count": 65,
     "metadata": {},
     "output_type": "execute_result"
    }
   ],
   "source": [
    "rivers_df.shape"
   ]
  },
  {
   "cell_type": "code",
   "execution_count": 68,
   "metadata": {},
   "outputs": [],
   "source": [
    "## TODO: redundant rivers names with multiple latitudes and longitudes\n",
    "lakes_df.to_csv(\"./processed_data/lakes.csv\", index=False)\n",
    "rivers_df.to_csv(\"./processed_data/rivers.csv\", index=False)"
   ]
  },
  {
   "cell_type": "markdown",
   "metadata": {},
   "source": [
    "### Beaches"
   ]
  },
  {
   "cell_type": "code",
   "execution_count": 75,
   "metadata": {},
   "outputs": [],
   "source": [
    "with open('./raw_data/beaches.geojson', \"r\") as file:\n",
    "    data = json.load(file)\n"
   ]
  },
  {
   "cell_type": "code",
   "execution_count": 77,
   "metadata": {},
   "outputs": [
    {
     "data": {
      "text/plain": [
       "{'access',\n",
       " 'description',\n",
       " 'dog',\n",
       " 'leisure',\n",
       " 'lifeguard',\n",
       " 'name',\n",
       " 'natural',\n",
       " 'sport',\n",
       " 'supervised',\n",
       " 'surface'}"
      ]
     },
     "execution_count": 77,
     "metadata": {},
     "output_type": "execute_result"
    }
   ],
   "source": [
    "tag_items = {tag for element in data[\"elements\"] for tag in element.get(\"tags\", {})}\n",
    "tag_items"
   ]
  },
  {
   "cell_type": "code",
   "execution_count": 85,
   "metadata": {},
   "outputs": [],
   "source": [
    "# Initialize lists to hold lake and river data\n",
    "beach = []\n",
    "\n",
    "# Process each element in the JSON data\n",
    "for element in data[\"elements\"]:\n",
    "    tags = element.get(\"tags\", {})\n",
    "    # Extract beaches based on 'natural=beach' \n",
    "    if tags.get(\"natural\") == \"beach\":\n",
    "        if element[\"type\"] == \"node\":\n",
    "            beach.append({\n",
    "                \"id\": element[\"id\"],\n",
    "                \"name\": tags.get(\"name\", \"Unnamed\"),\n",
    "                \"latitude\": element.get(\"lat\"),\n",
    "                \"longitude\": element.get(\"lon\"),\n",
    "                \"bounds\": '',\n",
    "                \"geometry\": '',\n",
    "                \"surface\": tags.get(\"surface\", ''),\n",
    "            })\n",
    "        else:\n",
    "            beach.append({\n",
    "                \"id\": element[\"id\"],\n",
    "                \"name\": tags.get(\"name\", \"Unnamed\"),\n",
    "                \"latitude\": '',\n",
    "                \"longitude\": '',\n",
    "                \"bounds\": element.get(\"bounds\", ''),\n",
    "                \"geometry\":element.get(\"geometry\", ''),\n",
    "            })\n",
    "    \n",
    "    # # Extract rivers based on 'waterway=river'\n",
    "    # elif tags.get(\"waterway\") == \"river\":\n",
    "    #     rivers.append({\n",
    "    #         \"id\": element[\"id\"],\n",
    "    #         \"name\": tags.get(\"name\", \"Unnamed\"),\n",
    "    #         \"latitude\": element.get(\"center\", {}).get(\"lat\") ,\n",
    "    #         \"longitude\": element.get(\"center\", {}).get(\"lon\"),\n",
    "    #         \"bounds\": element.get(\"bounds\", ''),\n",
    "    #         \"geometry\":element.get(\"geometry\", ''),\n",
    "    #     })\n",
    "\n",
    "# Create DataFrames for beach\n",
    "beach_df = pd.DataFrame(beach)\n",
    "\n",
    "\n"
   ]
  },
  {
   "cell_type": "code",
   "execution_count": 88,
   "metadata": {},
   "outputs": [],
   "source": [
    "beach_df.to_csv(\"./processed_data/beaches.csv\", index=False)"
   ]
  },
  {
   "cell_type": "markdown",
   "metadata": {},
   "source": [
    "### Peaks and Viewpoints"
   ]
  },
  {
   "cell_type": "code",
   "execution_count": null,
   "metadata": {},
   "outputs": [],
   "source": [
    "with open('./raw_data/peaks_and_viewpoints.geojson', \"r\") as file:\n",
    "    data = json.load(file)\n"
   ]
  },
  {
   "cell_type": "code",
   "execution_count": 58,
   "metadata": {},
   "outputs": [],
   "source": [
    "\n",
    "\n",
    "peaks_and_viewpoints = []\n",
    "\n",
    "\n",
    "for element in data[\"elements\"]:\n",
    "    tags = element.get(\"tags\", {})\n",
    "    peaks_and_viewpoints.append({\n",
    "        \"id\": \"PnV_id_\"+ str(element[\"id\"]),\n",
    "        \"latitude\": element[\"lat\"],\n",
    "        \"longitude\": element[\"lon\"],\n",
    "        \"name\": tags.get(\"name\"),\n",
    "        \"description\": tags.get(\"description\"),\n",
    "        \"historic\": tags.get(\"historic\"),\n",
    "        \"amenity\": tags.get(\"amenity\"),\n",
    "        \"height\": tags.get(\"height\"),\n",
    "        \"website\": (tags.get(\"contact:website\",\"\") if tags.get(\"contact:website\",\"\") else tags.get(\"website\",\"\")),\n",
    "        \n",
    "    })\n",
    "    \n",
    "    \n",
    "peaks_and_viewpoints_df = pd.DataFrame(peaks_and_viewpoints)\n",
    "\n",
    "\n"
   ]
  },
  {
   "cell_type": "code",
   "execution_count": 66,
   "metadata": {},
   "outputs": [
    {
     "data": {
      "text/plain": [
       "(2542, 9)"
      ]
     },
     "execution_count": 66,
     "metadata": {},
     "output_type": "execute_result"
    }
   ],
   "source": [
    "peaks_and_viewpoints_df.shape"
   ]
  },
  {
   "cell_type": "code",
   "execution_count": null,
   "metadata": {},
   "outputs": [],
   "source": [
    "peaks_and_viewpoints_df.to_csv(\"./processed_data/peaks_and_viewpoints.csv\", index=False)"
   ]
  },
  {
   "cell_type": "markdown",
   "metadata": {},
   "source": [
    "### Protected Areas"
   ]
  },
  {
   "cell_type": "code",
   "execution_count": 71,
   "metadata": {},
   "outputs": [],
   "source": [
    "with open('./raw_data/protected_areas.geojson', \"r\") as file:\n",
    "    data = json.load(file)"
   ]
  },
  {
   "cell_type": "code",
   "execution_count": 72,
   "metadata": {},
   "outputs": [],
   "source": [
    "\n",
    "\n",
    "protected_areas = []\n",
    "\n",
    "\n",
    "for element in data[\"elements\"]:\n",
    "    tags = element.get(\"tags\", {})\n",
    "    protected_areas.append({\n",
    "        \"id\": \"PA_id_\"+ str(element[\"id\"]),\n",
    "        \"latitude\": element['center'][\"lat\"],\n",
    "        \"longitude\": element['center'][\"lon\"],\n",
    "        \"name\": tags.get(\"name\"),\n",
    "        \"source\": tags.get(\"source\"),\n",
    "        \"website\": tags.get(\"website\"),\n",
    "        \"protection_title\": tags.get(\"protection_title\"),\n",
    "        \"leisure\": tags.get(\"leisure\"),\n",
    "        \n",
    "    })\n",
    "    \n",
    "    \n",
    "protected_areas_df = pd.DataFrame(protected_areas)\n",
    "\n",
    "\n"
   ]
  },
  {
   "cell_type": "code",
   "execution_count": 74,
   "metadata": {},
   "outputs": [
    {
     "data": {
      "text/html": [
       "<div>\n",
       "<style scoped>\n",
       "    .dataframe tbody tr th:only-of-type {\n",
       "        vertical-align: middle;\n",
       "    }\n",
       "\n",
       "    .dataframe tbody tr th {\n",
       "        vertical-align: top;\n",
       "    }\n",
       "\n",
       "    .dataframe thead th {\n",
       "        text-align: right;\n",
       "    }\n",
       "</style>\n",
       "<table border=\"1\" class=\"dataframe\">\n",
       "  <thead>\n",
       "    <tr style=\"text-align: right;\">\n",
       "      <th></th>\n",
       "      <th>id</th>\n",
       "      <th>latitude</th>\n",
       "      <th>longitude</th>\n",
       "      <th>name</th>\n",
       "      <th>source</th>\n",
       "      <th>website</th>\n",
       "      <th>protection_title</th>\n",
       "      <th>leisure</th>\n",
       "    </tr>\n",
       "  </thead>\n",
       "  <tbody>\n",
       "    <tr>\n",
       "      <th>0</th>\n",
       "      <td>PA_id_4710461</td>\n",
       "      <td>45.884332</td>\n",
       "      <td>10.692263</td>\n",
       "      <td>Rete di riserve Alpi Ledrensi</td>\n",
       "      <td>Provincia autonoma di Trento</td>\n",
       "      <td>https://www.reteriservealpiledrensi.tn.it/</td>\n",
       "      <td>None</td>\n",
       "      <td>None</td>\n",
       "    </tr>\n",
       "    <tr>\n",
       "      <th>1</th>\n",
       "      <td>PA_id_15595792</td>\n",
       "      <td>46.490497</td>\n",
       "      <td>11.586921</td>\n",
       "      <td>Naturpark Schlern-Rosengarten – Parco naturale...</td>\n",
       "      <td>EEA CDDA (v20)</td>\n",
       "      <td>https://parchi-naturali.provincia.bz.it/parco-...</td>\n",
       "      <td>Parco naturale</td>\n",
       "      <td>nature_reserve</td>\n",
       "    </tr>\n",
       "    <tr>\n",
       "      <th>2</th>\n",
       "      <td>PA_id_15638582</td>\n",
       "      <td>46.536940</td>\n",
       "      <td>11.668578</td>\n",
       "      <td>Landschaftsschutzgebiet Seiser Alm – Zona di T...</td>\n",
       "      <td>\"Piani paesaggistici: Delimitazioni dei Piani ...</td>\n",
       "      <td>https://seiseralm-schlerngebiet.com/seiseralm/...</td>\n",
       "      <td>Zona di Tutela Paesaggistica</td>\n",
       "      <td>None</td>\n",
       "    </tr>\n",
       "  </tbody>\n",
       "</table>\n",
       "</div>"
      ],
      "text/plain": [
       "               id   latitude  longitude  \\\n",
       "0   PA_id_4710461  45.884332  10.692263   \n",
       "1  PA_id_15595792  46.490497  11.586921   \n",
       "2  PA_id_15638582  46.536940  11.668578   \n",
       "\n",
       "                                                name  \\\n",
       "0                      Rete di riserve Alpi Ledrensi   \n",
       "1  Naturpark Schlern-Rosengarten – Parco naturale...   \n",
       "2  Landschaftsschutzgebiet Seiser Alm – Zona di T...   \n",
       "\n",
       "                                              source  \\\n",
       "0                       Provincia autonoma di Trento   \n",
       "1                                     EEA CDDA (v20)   \n",
       "2  \"Piani paesaggistici: Delimitazioni dei Piani ...   \n",
       "\n",
       "                                             website  \\\n",
       "0         https://www.reteriservealpiledrensi.tn.it/   \n",
       "1  https://parchi-naturali.provincia.bz.it/parco-...   \n",
       "2  https://seiseralm-schlerngebiet.com/seiseralm/...   \n",
       "\n",
       "               protection_title         leisure  \n",
       "0                          None            None  \n",
       "1                Parco naturale  nature_reserve  \n",
       "2  Zona di Tutela Paesaggistica            None  "
      ]
     },
     "execution_count": 74,
     "metadata": {},
     "output_type": "execute_result"
    }
   ],
   "source": [
    "protected_areas_df"
   ]
  },
  {
   "cell_type": "code",
   "execution_count": null,
   "metadata": {},
   "outputs": [],
   "source": [
    "protected_areas_df.to_csv(\"./processed_data/protected_areas.csv\", index=False)"
   ]
  },
  {
   "cell_type": "markdown",
   "metadata": {},
   "source": [
    "### Skiing and Winter Sports facility"
   ]
  },
  {
   "cell_type": "code",
   "execution_count": 89,
   "metadata": {},
   "outputs": [],
   "source": [
    "with open('./raw_data/skiing_and_winter_sports.geojson', \"r\") as file:\n",
    "    data = json.load(file)"
   ]
  },
  {
   "cell_type": "code",
   "execution_count": null,
   "metadata": {},
   "outputs": [],
   "source": [
    "sna = []\n",
    "\n",
    "for element in data[\"elements\"]:\n",
    "    tags = element.get(\"tags\", {})\n",
    "    if element.get(\"type\") == \"way\":\n",
    "        sna.append({\n",
    "            \"id\": \"PA_id_\"+ str(element[\"id\"]),\n",
    "            \"name\": tags.get(\"name\",''),\n",
    "            \"sport\": tags.get(\"sport\",''),\n",
    "            \"details\": tags,\n",
    "            \"latitude\": '',\n",
    "            \"longitude\": '',\n",
    "            \"bounds\": element.get(\"bounds\", ''),\n",
    "            \"geometry\":element.get(\"geometry\", ''),\n",
    "            \n",
    "        })\n",
    "    else:\n",
    "        sna.append({\n",
    "            \"id\": \"PA_id_\"+ str(element[\"id\"]),\n",
    "            \"name\": tags.get(\"name\",''),\n",
    "            \"sport\": tags.get(\"sport\",''),\n",
    "            \"details\": tags,\n",
    "            \"latitude\": element.get(\"lat\"),\n",
    "            \"longitude\": element.get(\"lon\"),\n",
    "            \"bounds\": element.get(\"bounds\", ''),\n",
    "            \"geometry\":element.get(\"geometry\", ''),\n",
    "            \n",
    "        })\n",
    "    \n",
    "    \n",
    "sna_df = pd.DataFrame(sna)\n",
    "\n",
    "\n"
   ]
  },
  {
   "cell_type": "code",
   "execution_count": 115,
   "metadata": {},
   "outputs": [
    {
     "data": {
      "text/plain": [
       "(1283, 8)"
      ]
     },
     "execution_count": 115,
     "metadata": {},
     "output_type": "execute_result"
    }
   ],
   "source": [
    "sna_df.isna().shape"
   ]
  },
  {
   "cell_type": "code",
   "execution_count": 116,
   "metadata": {},
   "outputs": [],
   "source": [
    "sna_df.to_csv(\"./processed_data/skiing_and_winter_sports.csv\", index=False)"
   ]
  },
  {
   "cell_type": "markdown",
   "metadata": {},
   "source": [
    "### Waterfall and Spring"
   ]
  },
  {
   "cell_type": "code",
   "execution_count": null,
   "metadata": {},
   "outputs": [],
   "source": [
    "with open('./raw_data/waterfall_and_spring.geojson', \"r\") as file:\n",
    "    data = json.load(file)"
   ]
  },
  {
   "cell_type": "code",
   "execution_count": 81,
   "metadata": {},
   "outputs": [
    {
     "data": {
      "text/plain": [
       "{'access',\n",
       " 'amenity',\n",
       " 'amenity_1',\n",
       " 'check_date',\n",
       " 'covered',\n",
       " 'description',\n",
       " 'drinking_water',\n",
       " 'drinking_water:legal',\n",
       " 'ele',\n",
       " 'fee',\n",
       " 'fixme',\n",
       " 'intermittent',\n",
       " 'loc_name',\n",
       " 'mapillary',\n",
       " 'material',\n",
       " 'name',\n",
       " 'name:cs',\n",
       " 'name:de',\n",
       " 'name:en',\n",
       " 'name:it',\n",
       " 'natural',\n",
       " 'noref',\n",
       " 'note',\n",
       " 'operator',\n",
       " 'place',\n",
       " 'refitted',\n",
       " 'source',\n",
       " 'wheelchair',\n",
       " 'wikimedia_commons'}"
      ]
     },
     "execution_count": 81,
     "metadata": {},
     "output_type": "execute_result"
    }
   ],
   "source": [
    "tag_items = {tag for element in data[\"elements\"] for tag in element.get(\"tags\", {})}\n",
    "tag_items"
   ]
  },
  {
   "cell_type": "code",
   "execution_count": null,
   "metadata": {},
   "outputs": [],
   "source": [
    "was = []\n",
    "\n",
    "\n",
    "for element in data[\"elements\"]:\n",
    "    tags = element.get(\"tags\", {})\n",
    "    was.append({\n",
    "        \"id\": \"WaS_id_\"+ str(element[\"id\"]),\n",
    "        \"latitude\": element[\"lat\"] if element[\"type\"] == \"node\" else element['center'][\"lat\"],\n",
    "        \"longitude\": element[\"lon\"] if element[\"type\"] == \"node\" else element['center'][\"lon\"],\n",
    "        \"name\": tags.get(\"name\",''),\n",
    "        \"amenity\": tags.get(\"amenity\",''),\n",
    "        \"description\": tags.get(\"description\",''),\n",
    "        \n",
    "        \n",
    "    })\n",
    "    \n",
    "    \n",
    "was_df = pd.DataFrame(was)\n",
    "\n",
    "\n"
   ]
  },
  {
   "cell_type": "code",
   "execution_count": 85,
   "metadata": {},
   "outputs": [
    {
     "data": {
      "text/plain": [
       "(295, 6)"
      ]
     },
     "execution_count": 85,
     "metadata": {},
     "output_type": "execute_result"
    }
   ],
   "source": [
    "was_df.shape"
   ]
  },
  {
   "cell_type": "code",
   "execution_count": null,
   "metadata": {},
   "outputs": [],
   "source": [
    "was_df.to_csv(\"./processed_data/waterfall_and_spring.csv\", index=False)"
   ]
  },
  {
   "cell_type": "code",
   "execution_count": null,
   "metadata": {},
   "outputs": [],
   "source": []
  }
 ],
 "metadata": {
  "kernelspec": {
   "display_name": "kge_env",
   "language": "python",
   "name": "python3"
  },
  "language_info": {
   "codemirror_mode": {
    "name": "ipython",
    "version": 3
   },
   "file_extension": ".py",
   "mimetype": "text/x-python",
   "name": "python",
   "nbconvert_exporter": "python",
   "pygments_lexer": "ipython3",
   "version": "3.7.12"
  }
 },
 "nbformat": 4,
 "nbformat_minor": 2
}
