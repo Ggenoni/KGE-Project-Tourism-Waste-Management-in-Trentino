{
 "cells": [
  {
   "cell_type": "code",
   "execution_count": 44,
   "metadata": {},
   "outputs": [],
   "source": [
    "import pandas as pd\n",
    "import geopandas as gpd\n",
    "from shapely.geometry import Point\n",
    "import json\n"
   ]
  },
  {
   "cell_type": "code",
   "execution_count": 45,
   "metadata": {},
   "outputs": [],
   "source": [
    "# 1. Load the data\n",
    "csv_file = \"final_processed_data.csv\"\n",
    "geojson_file = \"Cleaned_Municipality.geojson\""
   ]
  },
  {
   "cell_type": "code",
   "execution_count": 46,
   "metadata": {},
   "outputs": [],
   "source": [
    "# Load final_processed_data.csv\n",
    "df = pd.read_csv(csv_file)\n",
    "df.rename({'Geometry':'geometry'}, inplace=True)\n",
    "\n",
    "with open(\"Cleaned_Municipality.geojson\") as f:\n",
    "    data = json.load(f)\n",
    "    \n",
    "\n",
    "\n",
    "# Convert the list to a FeatureCollection\n",
    "geojson_featurecollection = {\n",
    "    \"type\": \"FeatureCollection\",\n",
    "    \"features\": data\n",
    "}\n",
    "\n",
    "# Save the fixed GeoJSON\n",
    "with open(\"Cleaned_Municipalities_fixed.geojson\", \"w\") as f:\n",
    "    json.dump(geojson_featurecollection, f)\n"
   ]
  },
  {
   "cell_type": "code",
   "execution_count": 47,
   "metadata": {},
   "outputs": [],
   "source": [
    "# 2. Convert the CSV to a GeoDataFrame\n",
    "geometry = [Point(xy) for xy in zip(df['Longitude'], df['Latitude'])]\n",
    "gdf_points = gpd.GeoDataFrame(df, geometry=geometry, crs=\"EPSG:4326\")  # CRS 4326 is for latitude/longitude\n",
    "\n",
    "gdf_municipalities = gpd.GeoDataFrame.from_features(geojson_featurecollection[\"features\"], crs=\"EPSG:4326\")\n",
    "\n",
    "gdf_joined = gpd.sjoin(gdf_points, gdf_municipalities, how=\"left\", predicate=\"within\")\n"
   ]
  },
  {
   "cell_type": "code",
   "execution_count": 48,
   "metadata": {},
   "outputs": [],
   "source": [
    "df['Municipality'] = gdf_joined['ref:ISTAT']\n",
    "df.rename({'geometry':'Geometry'}, inplace=True)\n",
    "df.drop(columns=['geometry'], inplace=True)\n",
    "\n",
    "df.to_csv(\"Tourist_Attractions_Final.csv\", index=False)\n"
   ]
  },
  {
   "cell_type": "code",
   "execution_count": 50,
   "metadata": {},
   "outputs": [],
   "source": [
    "df.to_csv(\"Tourist_Attractions_Final.csv\", index=False)\n"
   ]
  }
 ],
 "metadata": {
  "kernelspec": {
   "display_name": "kge_env",
   "language": "python",
   "name": "python3"
  },
  "language_info": {
   "codemirror_mode": {
    "name": "ipython",
    "version": 3
   },
   "file_extension": ".py",
   "mimetype": "text/x-python",
   "name": "python",
   "nbconvert_exporter": "python",
   "pygments_lexer": "ipython3",
   "version": "3.7.12"
  }
 },
 "nbformat": 4,
 "nbformat_minor": 2
}
