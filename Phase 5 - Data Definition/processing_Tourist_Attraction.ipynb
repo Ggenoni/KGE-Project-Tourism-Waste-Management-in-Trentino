{
 "cells": [
  {
   "cell_type": "code",
   "execution_count": 2,
   "metadata": {},
   "outputs": [],
   "source": [
    "import pandas as pd\n",
    "import geopandas as gpd\n",
    "from shapely.geometry import Point"
   ]
  },
  {
   "cell_type": "code",
   "execution_count": 11,
   "metadata": {},
   "outputs": [],
   "source": [
    "# 1. Load the data\n",
    "csv_file = \"final_processed_data.csv\"\n",
    "geojson_file = \"Cleaned_Municipality.geojson\""
   ]
  },
  {
   "cell_type": "code",
   "execution_count": 6,
   "metadata": {},
   "outputs": [],
   "source": [
    "# Load final_processed_data.csv\n",
    "df = pd.read_csv(csv_file)"
   ]
  },
  {
   "cell_type": "code",
   "execution_count": 14,
   "metadata": {},
   "outputs": [],
   "source": [
    "import json\n",
    "\n",
    "with open(\"Cleaned_Municipality.geojson\") as f:\n",
    "    data = json.load(f)"
   ]
  },
  {
   "cell_type": "code",
   "execution_count": 16,
   "metadata": {},
   "outputs": [],
   "source": [
    "import json\n",
    "\n",
    "with open(\"Cleaned_Municipality.geojson\") as f:\n",
    "    data = json.load(f)\n",
    "\n",
    "# Convert the list to a FeatureCollection\n",
    "geojson_featurecollection = {\n",
    "    \"type\": \"FeatureCollection\",\n",
    "    \"features\": data\n",
    "}\n",
    "\n",
    "# Save the fixed GeoJSON\n",
    "with open(\"Cleaned_Municipalities_fixed.geojson\", \"w\") as f:\n",
    "    json.dump(geojson_featurecollection, f)\n"
   ]
  },
  {
   "cell_type": "code",
   "execution_count": 17,
   "metadata": {},
   "outputs": [],
   "source": [
    "# 2. Convert the CSV to a GeoDataFrame\n",
    "geometry = [Point(xy) for xy in zip(df['Longitude'], df['Latitude'])]\n",
    "gdf_points = gpd.GeoDataFrame(df, geometry=geometry, crs=\"EPSG:4326\")  # CRS 4326 is for latitude/longitude\n"
   ]
  },
  {
   "cell_type": "code",
   "execution_count": 19,
   "metadata": {},
   "outputs": [],
   "source": [
    "gdf_municipalities = gpd.GeoDataFrame.from_features(geojson_featurecollection[\"features\"])\n"
   ]
  },
  {
   "cell_type": "code",
   "execution_count": 20,
   "metadata": {},
   "outputs": [
    {
     "name": "stderr",
     "output_type": "stream",
     "text": [
      "C:\\Users\\prova\\AppData\\Local\\Temp\\ipykernel_14056\\1121728352.py:1: UserWarning: CRS mismatch between the CRS of left geometries and the CRS of right geometries.\n",
      "Use `to_crs()` to reproject one of the input geometries to match the CRS of the other.\n",
      "\n",
      "Left CRS: EPSG:4326\n",
      "Right CRS: None\n",
      "\n",
      "  gdf_joined = gpd.sjoin(gdf_points, gdf_municipalities, how=\"left\", predicate=\"within\")\n"
     ]
    }
   ],
   "source": [
    "gdf_joined = gpd.sjoin(gdf_points, gdf_municipalities, how=\"left\", predicate=\"within\")\n"
   ]
  },
  {
   "cell_type": "code",
   "execution_count": 21,
   "metadata": {},
   "outputs": [],
   "source": [
    "df['Municipality'] = gdf_joined['ref:ISTAT']\n"
   ]
  },
  {
   "cell_type": "code",
   "execution_count": 22,
   "metadata": {},
   "outputs": [
    {
     "data": {
      "text/html": [
       "<div>\n",
       "<style scoped>\n",
       "    .dataframe tbody tr th:only-of-type {\n",
       "        vertical-align: middle;\n",
       "    }\n",
       "\n",
       "    .dataframe tbody tr th {\n",
       "        vertical-align: top;\n",
       "    }\n",
       "\n",
       "    .dataframe thead th {\n",
       "        text-align: right;\n",
       "    }\n",
       "</style>\n",
       "<table border=\"1\" class=\"dataframe\">\n",
       "  <thead>\n",
       "    <tr style=\"text-align: right;\">\n",
       "      <th></th>\n",
       "      <th>ID</th>\n",
       "      <th>Name</th>\n",
       "      <th>Type</th>\n",
       "      <th>Latitude</th>\n",
       "      <th>Longitude</th>\n",
       "      <th>Description</th>\n",
       "      <th>Details</th>\n",
       "      <th>Address</th>\n",
       "      <th>Geometry</th>\n",
       "      <th>Contact</th>\n",
       "      <th>Municipality</th>\n",
       "    </tr>\n",
       "  </thead>\n",
       "  <tbody>\n",
       "    <tr>\n",
       "      <th>0</th>\n",
       "      <td>498740308</td>\n",
       "      <td>Bus del nono</td>\n",
       "      <td>caves</td>\n",
       "      <td>45.782194</td>\n",
       "      <td>10.992617</td>\n",
       "      <td>NaN</td>\n",
       "      <td>NaN</td>\n",
       "      <td>NaN</td>\n",
       "      <td>POINT (10.9926165 45.7821944)</td>\n",
       "      <td>NaN</td>\n",
       "      <td>22001</td>\n",
       "    </tr>\n",
       "    <tr>\n",
       "      <th>1</th>\n",
       "      <td>508788420</td>\n",
       "      <td>Prigione del Sasso</td>\n",
       "      <td>caves</td>\n",
       "      <td>45.921416</td>\n",
       "      <td>10.888087</td>\n",
       "      <td>NaN</td>\n",
       "      <td>NaN</td>\n",
       "      <td>NaN</td>\n",
       "      <td>POINT (10.888087 45.9214156)</td>\n",
       "      <td>NaN</td>\n",
       "      <td>22006</td>\n",
       "    </tr>\n",
       "    <tr>\n",
       "      <th>2</th>\n",
       "      <td>600025838</td>\n",
       "      <td>Grotta Damiano Chiesa</td>\n",
       "      <td>caves</td>\n",
       "      <td>45.853438</td>\n",
       "      <td>11.036204</td>\n",
       "      <td>NaN</td>\n",
       "      <td>NaN</td>\n",
       "      <td>NaN</td>\n",
       "      <td>POINT (11.0362043 45.8534376)</td>\n",
       "      <td>NaN</td>\n",
       "      <td>22161</td>\n",
       "    </tr>\n",
       "    <tr>\n",
       "      <th>3</th>\n",
       "      <td>610991691</td>\n",
       "      <td>Unnamed</td>\n",
       "      <td>caves</td>\n",
       "      <td>45.881934</td>\n",
       "      <td>10.884507</td>\n",
       "      <td>NaN</td>\n",
       "      <td>NaN</td>\n",
       "      <td>NaN</td>\n",
       "      <td>POINT (10.8845066 45.8819343)</td>\n",
       "      <td>NaN</td>\n",
       "      <td>22124</td>\n",
       "    </tr>\n",
       "    <tr>\n",
       "      <th>4</th>\n",
       "      <td>641260808</td>\n",
       "      <td>Miniera dell'Aubis</td>\n",
       "      <td>caves</td>\n",
       "      <td>46.111971</td>\n",
       "      <td>11.313204</td>\n",
       "      <td>NaN</td>\n",
       "      <td>NaN</td>\n",
       "      <td>NaN</td>\n",
       "      <td>POINT (11.3132041 46.1119712)</td>\n",
       "      <td>NaN</td>\n",
       "      <td>22085</td>\n",
       "    </tr>\n",
       "  </tbody>\n",
       "</table>\n",
       "</div>"
      ],
      "text/plain": [
       "          ID                   Name   Type   Latitude  Longitude Description  \\\n",
       "0  498740308           Bus del nono  caves  45.782194  10.992617         NaN   \n",
       "1  508788420     Prigione del Sasso  caves  45.921416  10.888087         NaN   \n",
       "2  600025838  Grotta Damiano Chiesa  caves  45.853438  11.036204         NaN   \n",
       "3  610991691                Unnamed  caves  45.881934  10.884507         NaN   \n",
       "4  641260808     Miniera dell'Aubis  caves  46.111971  11.313204         NaN   \n",
       "\n",
       "  Details Address                       Geometry Contact Municipality  \n",
       "0     NaN     NaN  POINT (10.9926165 45.7821944)     NaN        22001  \n",
       "1     NaN     NaN   POINT (10.888087 45.9214156)     NaN        22006  \n",
       "2     NaN     NaN  POINT (11.0362043 45.8534376)     NaN        22161  \n",
       "3     NaN     NaN  POINT (10.8845066 45.8819343)     NaN        22124  \n",
       "4     NaN     NaN  POINT (11.3132041 46.1119712)     NaN        22085  "
      ]
     },
     "execution_count": 22,
     "metadata": {},
     "output_type": "execute_result"
    }
   ],
   "source": [
    "df.head()"
   ]
  },
  {
   "cell_type": "code",
   "execution_count": 24,
   "metadata": {},
   "outputs": [
    {
     "data": {
      "text/plain": [
       "0.09287107531617693"
      ]
     },
     "execution_count": 24,
     "metadata": {},
     "output_type": "execute_result"
    }
   ],
   "source": [
    "df.Municipality.isna().sum()/df.shape[0]"
   ]
  },
  {
   "cell_type": "code",
   "execution_count": 25,
   "metadata": {},
   "outputs": [
    {
     "data": {
      "text/plain": [
       "(31786, 11)"
      ]
     },
     "execution_count": 25,
     "metadata": {},
     "output_type": "execute_result"
    }
   ],
   "source": [
    "df.shape"
   ]
  },
  {
   "cell_type": "code",
   "execution_count": 26,
   "metadata": {},
   "outputs": [
    {
     "data": {
      "text/plain": [
       "2952"
      ]
     },
     "execution_count": 26,
     "metadata": {},
     "output_type": "execute_result"
    }
   ],
   "source": [
    "df.Municipality.isna().sum()"
   ]
  },
  {
   "cell_type": "code",
   "execution_count": 27,
   "metadata": {},
   "outputs": [],
   "source": [
    "df.to_csv(\"Tourist_Attractions_Final.csv\", index=False)"
   ]
  }
 ],
 "metadata": {
  "kernelspec": {
   "display_name": "Python 3",
   "language": "python",
   "name": "python3"
  },
  "language_info": {
   "codemirror_mode": {
    "name": "ipython",
    "version": 3
   },
   "file_extension": ".py",
   "mimetype": "text/x-python",
   "name": "python",
   "nbconvert_exporter": "python",
   "pygments_lexer": "ipython3",
   "version": "3.12.0"
  }
 },
 "nbformat": 4,
 "nbformat_minor": 2
}
